{
 "cells": [
  {
   "cell_type": "markdown",
   "metadata": {},
   "source": [
    "<img src=\"https://www.usergioarboleda.edu.co/wp-content/uploads/ultimatum/imagens/logo-mobile-UniversidadSergioArboleda.png\" alt=\"USA\" width=700>"
   ]
  },
  {
   "cell_type": "markdown",
   "metadata": {},
   "source": [
    "<img align=\"center\" width=\"300\" height=\"300\" src=\"https://i2.wp.com/desenfasados.com/wp-content/uploads/2018/08/scipy.png?fit=672%2C267&ssl=1\">"
   ]
  },
  {
   "cell_type": "markdown",
   "metadata": {},
   "source": [
    "`SciPy` es paquete que incluye una colección de algoritmos matemáticos y funciones construidas sobre el paquete `NumPy`. \n",
    "\n",
    "Dirigida al mismo tipo de usuarios que los de aplicaciones como MATLAB, GNU Octave, y Scilab, `SciPy` contiene varios módulos, entre ellos:\n",
    "\n",
    "* Funciones especiales ([scipy.special](https://docs.scipy.org/doc/scipy/reference/tutorial/special.html))\n",
    "* Integración ([scipy.integrate](https://docs.scipy.org/doc/scipy/reference/tutorial/integrate.html))\n",
    "* Optimización ([scipy.optimize](https://docs.scipy.org/doc/scipy/reference/tutorial/optimize.html))\n",
    "* Interpolación ([scipy.interpolate](https://docs.scipy.org/doc/scipy/reference/tutorial/interpolate.html))\n",
    "* Transformadas de Fourier ([scipy.fftpack](https://docs.scipy.org/doc/scipy/reference/tutorial/fftpack.html))\n",
    "* Procesado de señales ([scipy.signal](https://docs.scipy.org/doc/scipy/reference/tutorial/signal.html))\n",
    "* Algebra lineal ([scipy.linalg]())\n",
    "* Problemas de valores propios con matrices dispersas [(ARPACK)](https://docs.scipy.org/doc/scipy/reference/tutorial/arpack.html)\n",
    "* Grafos ([scipy.sparse.csgraph](https://docs.scipy.org/doc/scipy/reference/tutorial/csgraph.html))\n",
    "* Análisis espacial: ([scipy.spatial](https://docs.scipy.org/doc/scipy/reference/tutorial/spatial.html))\n",
    "* Estadística ([scipy.stats]())\n",
    "* Tratamiento de imágenes multidimensionales ([scipy.ndimage](https://docs.scipy.org/doc/scipy/reference/tutorial/ndimage.html))\n",
    "* Entrada y salida de archivos ([scipy.io](https://docs.scipy.org/doc/scipy/reference/tutorial/io.html))\n",
    "\n",
    "\n",
    "En esta clase nos vamos repasar brevemente algunas de las funcionalidades más relevantes para el análisis de datos. Pero antes, carguemos las librerías de NumPy y matplotlib que ya conocemos."
   ]
  },
  {
   "cell_type": "code",
   "execution_count": null,
   "metadata": {},
   "outputs": [],
   "source": [
    "import numpy as np\n",
    "%matplotlib inline\n",
    "import matplotlib.pyplot as plt"
   ]
  },
  {
   "cell_type": "markdown",
   "metadata": {},
   "source": [
    "## File input/output: scipy.io"
   ]
  },
  {
   "cell_type": "markdown",
   "metadata": {},
   "source": [
    "Este módulo de SciPy permite leer y escribir archivos de datos en una gran variedad de formatos [(ver documentación)](https://docs.scipy.org/doc/scipy/reference/io.html#module-scipy.io).\n",
    "\n",
    "Por ejemplo, para trabajar con __datos de MATLAB (*.dat):__\n"
   ]
  },
  {
   "cell_type": "code",
   "execution_count": null,
   "metadata": {},
   "outputs": [],
   "source": [
    "from scipy import io as spio\n",
    "a = np.ones((3, 3)) # creamos una matriz de 3x3 "
   ]
  },
  {
   "cell_type": "code",
   "execution_count": null,
   "metadata": {},
   "outputs": [],
   "source": [
    "spio.savemat('archivo.mat', # nombre del archivo\n",
    "             {'a': a}) # asignamos y referenciamos el nombre con un diccionario "
   ]
  },
  {
   "cell_type": "markdown",
   "metadata": {},
   "source": [
    "Así de sencillo, ya hemos \"exportado\" los valores de la variable 'a' a un archivo en formato `*.mat`.\n",
    "\n",
    "Veamos si podemos localizarlo:"
   ]
  },
  {
   "cell_type": "code",
   "execution_count": null,
   "metadata": {},
   "outputs": [],
   "source": [
    "%ls *.mat"
   ]
  },
  {
   "cell_type": "markdown",
   "metadata": {},
   "source": [
    "Imaginemos la situación inversa. ¿Cómo importar archivos de datos de MATLAB a Python"
   ]
  },
  {
   "cell_type": "code",
   "execution_count": null,
   "metadata": {},
   "outputs": [],
   "source": [
    "data = spio.loadmat('archivo.mat')\n",
    "data['a']"
   ]
  },
  {
   "cell_type": "markdown",
   "metadata": {},
   "source": [
    "Podemos listar los variables importadas:"
   ]
  },
  {
   "cell_type": "code",
   "execution_count": null,
   "metadata": {},
   "outputs": [],
   "source": [
    "spio.whosmat('archivo.mat')"
   ]
  },
  {
   "cell_type": "markdown",
   "metadata": {},
   "source": [
    "Existen otras formas de cargar datos:\n",
    "* Datos de archivos de texto: [`numpy.loadtxt()`](https://docs.scipy.org/doc/numpy/reference/generated/numpy.loadtxt.html#numpy.loadtxt) | [`numpy.savetxt()`](https://docs.scipy.org/doc/numpy/reference/generated/numpy.savetxt.html#numpy.savetxt)\n",
    "* Datos de archivos de texto incompletos: [`numpy.genfromtxt()`](https://docs.scipy.org/doc/numpy/reference/generated/numpy.genfromtxt.html#numpy.genfromtxt) | `numpy.recfromcsv()`\n",
    "* Datos con formato NumPy-binario (eficiente): [`numpy.save()`](https://docs.scipy.org/doc/numpy/reference/generated/numpy.save.html#numpy.save) | [`numpy.load`](https://docs.scipy.org/doc/numpy/reference/generated/numpy.load.html#numpy.load)\n",
    "* [`pandas.read_csv`](http://pandas.pydata.org/pandas-docs/stable/generated/pandas.read_csv.html): que cubriremos en detalle más tarde"
   ]
  },
  {
   "cell_type": "markdown",
   "metadata": {},
   "source": [
    "# Estadística: [scipy.stats](https://docs.scipy.org/doc/scipy/reference/stats.html#module-scipy.stats)"
   ]
  },
  {
   "cell_type": "markdown",
   "metadata": {},
   "source": [
    "Este módulo contiene un gran número de __distribuciones de probabilidad__, tanto continuas como discretas, así como un creciente número de __funciones estadísticas__. \n",
    "\n",
    "Veamos un ejemplo simple tomado de Jake VanderPlas y su charla ([Statistics for Hackers](https://speakerdeck.com/jakevdp/statistics-for-hackers)). Queremos saber si dos sets de muestras son diferentes (a y b)."
   ]
  },
  {
   "cell_type": "code",
   "execution_count": null,
   "metadata": {},
   "outputs": [],
   "source": [
    "a = np.array([84, 72, 57, 46, 63, 76, 99, 91])\n",
    "b = np.array([81, 69, 74, 61, 56, 87, 69, 65, 66, 44, 62, 69])\n",
    "\n",
    "plt.hist(b, bins=5, alpha=0.5)  \n",
    "plt.hist(a, bins=5, alpha=0.5)  \n",
    "\n",
    "plt.plot(a,np.zeros(len(a)),'^')\n",
    "plt.plot(b,np.zeros(len(b)),'^')\n",
    "\n",
    "plt.title(\"Histogram\")\n",
    "plt.show()"
   ]
  },
  {
   "cell_type": "code",
   "execution_count": null,
   "metadata": {},
   "outputs": [],
   "source": [
    "print(\"La media de 'a' es {0:.1f}, y su desviación estándar es {1:.1f}\".format(a.mean(), a.std()))\n",
    "print(\"La media de 'b' es {0:.1f}, y su desviación estándar es {0:.1f}\".format(b.mean(), b.std()))\n",
    "\n",
    "print(\"La diferencia entre las medias es de {0:.1f}\".format(a.mean()- b.mean()))"
   ]
  },
  {
   "cell_type": "markdown",
   "metadata": {},
   "source": [
    "Vaya, parece que para estas muestras los histogramas no nos muestran información clara tampoco. Asumiendo que las muestras son representativas, podemos realizar la prueba de [t de Student](https://es.wikipedia.org/wiki/Prueba_t_de_Student) para ver si existen diferencias significativas entre ellas."
   ]
  },
  {
   "cell_type": "code",
   "execution_count": null,
   "metadata": {},
   "outputs": [],
   "source": [
    "from scipy import stats\n",
    "\n",
    "stats.ttest_ind(a,b)"
   ]
  },
  {
   "cell_type": "markdown",
   "metadata": {},
   "source": [
    "Podemos ver que el valor de $\\frac{p}{2} > 0.05 $ por lo que la hipótesis nula se cumple (no existen diferencias significativas entre ellas)."
   ]
  },
  {
   "cell_type": "markdown",
   "metadata": {},
   "source": [
    "__Ejercicio:__\n",
    "Si las muestras no son diferentes, no debería importar si intercambiamos los valores de forma aleatoria, ¿verdad?.\n",
    "¡Comprobémoslo!"
   ]
  },
  {
   "cell_type": "code",
   "execution_count": null,
   "metadata": {},
   "outputs": [],
   "source": [
    "samples = np.concatenate([a,b])\n",
    "\n",
    "num_simulations = 10000\n",
    "\n",
    "differences = np.zeros(num_simulations)\n",
    "\n",
    "for i in range(num_simulations):\n",
    "    np.random.shuffle(samples)\n",
    "    a_new = samples[0:len(a)]\n",
    "    b_new = samples[len(a):len(samples)]\n",
    "    a_mean = a_new.mean()\n",
    "    b_mean = b_new.mean()\n",
    "    differences[i]= (a_mean-b_mean)"
   ]
  },
  {
   "cell_type": "markdown",
   "metadata": {},
   "source": [
    "Ahora que hemos realizado nuestras simulaciones, podemos calcular nuestro valor $p$, que es simplemente la proporción de simulaciones que resultaron en una diferencia mayor o igual a 6.6 (la diferencia original)"
   ]
  },
  {
   "cell_type": "code",
   "execution_count": null,
   "metadata": {},
   "outputs": [],
   "source": [
    "p = np.sum(differences>(a.mean()-b.mean()))/num_simulations\n",
    "p"
   ]
  },
  {
   "cell_type": "markdown",
   "metadata": {},
   "source": [
    "$$ p = \\frac{N_{>6.6}}{N_{total}} = \\frac{1512}{10000} = 0.15 $$"
   ]
  },
  {
   "cell_type": "code",
   "execution_count": null,
   "metadata": {},
   "outputs": [],
   "source": [
    "plt.hist(differences, bins=50)\n",
    "plt.axvline((a.mean()-b.mean()),color='r')\n",
    "plt.xlabel('mean difference')\n",
    "plt.ylabel('number')"
   ]
  },
  {
   "cell_type": "markdown",
   "metadata": {},
   "source": [
    "Este [tutorial de `scipy.stats`](https://docs.scipy.org/doc/scipy/reference/tutorial/stats.html) muestra más ejemplos que podemos realizar. Por el momento, vamos a continuar explorando `SciPy`. Retomaremos más trabajo estadísitco cuando lleguemos a  `pandas`, "
   ]
  },
  {
   "cell_type": "markdown",
   "metadata": {},
   "source": [
    "## Interpolación: scipy.interpolate"
   ]
  },
  {
   "cell_type": "markdown",
   "metadata": {},
   "source": [
    "Una de las tareas fundamentales a las que nos enfrentaremos a diario en el análisis de datos es la de **interpolar**."
   ]
  },
  {
   "cell_type": "markdown",
   "metadata": {},
   "source": [
    "Supongamos que tenemos una serie de puntos que representan los datos de un cierto experimento. Por simplicidad, vamos a generar unos puntos de una función $\\sin{x}$ de ejemplo para explicar el funcionamiento."
   ]
  },
  {
   "cell_type": "code",
   "execution_count": null,
   "metadata": {},
   "outputs": [],
   "source": [
    "x_i = [0.0, 0.9, 1.8, 2.7, 3.6, 4.4, 5.3, 6.2, 7.1, 8.0]\n",
    "y_i = [0.0, 0.8, 1.0, 0.5, -0.4, -1.0, -0.8, -0.1, 0.7, 1.0]\n",
    "plt.plot(x_i, y_i, 'x', mew=2)"
   ]
  },
  {
   "cell_type": "markdown",
   "metadata": {},
   "source": [
    "Para interpolar utilizaremos el paquete `interpolate` de SciPy:"
   ]
  },
  {
   "cell_type": "code",
   "execution_count": null,
   "metadata": {},
   "outputs": [],
   "source": [
    "from scipy import interpolate"
   ]
  },
  {
   "cell_type": "markdown",
   "metadata": {},
   "source": [
    "\n",
    "\n",
    "Para crear una **función interpolante** utilizaremos el objeto `InterpolatedUnivariateSpline` del paquete `interpolate`. A este objeto solo hay que pasarle los puntos de interpolación y el grado, y generará un *spline*."
   ]
  },
  {
   "cell_type": "code",
   "execution_count": null,
   "metadata": {},
   "outputs": [],
   "source": [
    "f_interp = interpolate.InterpolatedUnivariateSpline(x_i, y_i, k=1)\n",
    "f_interp"
   ]
  },
  {
   "cell_type": "markdown",
   "metadata": {},
   "source": [
    "¿Cómo obtengo los puntos desde aquí? El resultado que hemos obtenido es una *función* y admite como argumento la $x$."
   ]
  },
  {
   "cell_type": "code",
   "execution_count": null,
   "metadata": {},
   "outputs": [],
   "source": [
    "f_interp(np.pi / 2)"
   ]
  },
  {
   "cell_type": "markdown",
   "metadata": {},
   "source": [
    "Vamos a representar esta función junto con los puntos de interpolación. Fíjate en que, ahora que tenemos una función interpolante, podemos representarla en un dominio:"
   ]
  },
  {
   "cell_type": "code",
   "execution_count": null,
   "metadata": {},
   "outputs": [],
   "source": [
    "x = np.linspace(0, 8)\n",
    "y_interp = f_interp(x)\n",
    "\n",
    "plt.plot(x_i, y_i, 'x', mew=2)\n",
    "plt.plot(x, y_interp)"
   ]
  },
  {
   "cell_type": "markdown",
   "metadata": {},
   "source": [
    "Retrocede ahora y comprueba lo que pasa si cambias el grado del *spline*. Dale a un vistazo a todas las opciones que SciPy ofrece para [interpolar datos](https://docs.scipy.org/doc/scipy/reference/interpolate.html)."
   ]
  },
  {
   "cell_type": "markdown",
   "metadata": {},
   "source": [
    "## Ajuste"
   ]
  },
  {
   "cell_type": "markdown",
   "metadata": {},
   "source": [
    "El ajuste funciona de manera totalmente distinta a la interpolación: obtendremos una curva que no pasará por ninguno de los puntos originales, pero que a cambio tendrá una expresión analítica simple que conocemos a priori.\n",
    "\n",
    "Veamos un ejemplo simple para realizar ajustes polinómicos vamos a utilizar el paquete `np.polynomial.polynomial` (sí, está dos veces)."
   ]
  },
  {
   "cell_type": "code",
   "execution_count": null,
   "metadata": {},
   "outputs": [],
   "source": [
    "from numpy.polynomial import polynomial"
   ]
  },
  {
   "cell_type": "markdown",
   "metadata": {},
   "source": [
    "Generaremos unos datos para ver cómo funcionaría, del tipo:\n",
    "\n",
    "$$y(x) = x^2 - x + 1 + \\text{ruido}$$"
   ]
  },
  {
   "cell_type": "code",
   "execution_count": null,
   "metadata": {},
   "outputs": [],
   "source": [
    "x_i = np.linspace(-2, 3, num=10)\n",
    "y_i = x_i ** 2 - x_i + 1 + 0.5 * np.random.randn(10)\n",
    "plt.plot(x_i, y_i, 'x', mew=2)"
   ]
  },
  {
   "cell_type": "markdown",
   "metadata": {},
   "source": [
    "Utilicemos ahora la función `polynomial.polyfit`, que recibe los puntos de interpolación y el grado del polinomio. El resultado serán los coeficientes del mismo, **en orden de potencias crecientes**."
   ]
  },
  {
   "cell_type": "code",
   "execution_count": null,
   "metadata": {},
   "outputs": [],
   "source": [
    "a, b, c = polynomial.polyfit(x_i, y_i, deg=2)\n",
    "a, b, c"
   ]
  },
  {
   "cell_type": "markdown",
   "metadata": {},
   "source": [
    "¡Muy similares a lo que esperábamos! Para evaluar un polinomio con estos coeficientes, o bien construimos la función nosotros mismos o usamos la función `polynomial.polyval`:"
   ]
  },
  {
   "cell_type": "code",
   "execution_count": null,
   "metadata": {},
   "outputs": [],
   "source": [
    "x = np.linspace(-2, 3)\n",
    "#y_fit = a + b * x + c * x ** 2\n",
    "y_fit = polynomial.polyval(x, (a, b, c))\n",
    "\n",
    "l, = plt.plot(x, y_fit)\n",
    "plt.plot(x_i, y_i, 'x', mew=2, c=l.get_color())"
   ]
  },
  {
   "cell_type": "markdown",
   "metadata": {},
   "source": [
    "\n",
    "Si la función que queremos ajustar es más compleja, necesitaremos ajustar los datos a una curva mediante un algoritmo de optimización."
   ]
  },
  {
   "cell_type": "code",
   "execution_count": null,
   "metadata": {},
   "outputs": [],
   "source": [
    "from scipy.optimize import curve_fit"
   ]
  },
  {
   "cell_type": "markdown",
   "metadata": {},
   "source": [
    "Generemos una vez más los datos añadiendo un poco de ruído. ¿Puedes leer ya funciones descritas con NumPy?"
   ]
  },
  {
   "cell_type": "code",
   "execution_count": null,
   "metadata": {
    "scrolled": true
   },
   "outputs": [],
   "source": [
    "def func(x, a, b, c):\n",
    "    return a * np.exp(-b * x) + c\n",
    "\n",
    "a, b, c = 2.5, 1.3, 0.5\n",
    "\n",
    "xdata = np.linspace(0, 4, 50)\n",
    "y = func(xdata, a, b, c)\n",
    "y_noise = 1.5 * np.random.normal(size=xdata.size)\n",
    "ydata = y + y_noise\n",
    "\n",
    "plt.plot(xdata, ydata, 'x',mew=2, label='exp. data')\n",
    "plt.plot(xdata, func(xdata, a, b, c), '-', label='true function')\n",
    "\n",
    "plt.xlabel('x')\n",
    "plt.ylabel('y')\n",
    "plt.legend()\n",
    "plt.show()"
   ]
  },
  {
   "cell_type": "code",
   "execution_count": null,
   "metadata": {},
   "outputs": [],
   "source": [
    "popt, pcov = curve_fit(func, xdata, ydata)\n",
    "\n",
    "popt"
   ]
  },
  {
   "cell_type": "markdown",
   "metadata": {},
   "source": [
    "Como en este ejemplo sintético conocemos los valores exactos, podemos ver que existe variación respecto a los valores originales debido al ruído añadido.\n",
    "\n",
    "Normalmente es mejor ayudar al solver definiendo unas restricciones:"
   ]
  },
  {
   "cell_type": "code",
   "execution_count": null,
   "metadata": {},
   "outputs": [],
   "source": [
    "popt_bounds, pcov_bounds = curve_fit(func, xdata, ydata,\n",
    "                                     bounds=([1, 1, 0], [3., 2., 1.]))\n",
    "popt_bounds"
   ]
  },
  {
   "cell_type": "markdown",
   "metadata": {},
   "source": [
    "Veamos los resultados en una gráfica:"
   ]
  },
  {
   "cell_type": "code",
   "execution_count": null,
   "metadata": {},
   "outputs": [],
   "source": [
    "plt.plot(xdata, ydata, 'x',mew=2, label='exp. data')\n",
    "plt.plot(xdata, func(xdata, a, b, c), '-', label='true function')\n",
    "plt.plot(xdata, func(xdata, *popt), 'r-', label='fit')\n",
    "plt.plot(xdata, func(xdata, *popt_bounds), 'g--', label='fit-with-bounds')\n",
    "         \n",
    "plt.xlabel('x')\n",
    "plt.ylabel('y')\n",
    "plt.legend()\n",
    "plt.show()"
   ]
  },
  {
   "cell_type": "markdown",
   "metadata": {},
   "source": [
    "Otra forma de ajustar una función a datos experimentales es minimizando el error por mínimos cuadrados. Para hacer este ejemplo más interesante, añadamos además de valores atípicos (*outliers*, en inglés). Este ejemplo está tomado del [Cookbook de Scipy, robust regression](http://scipy-cookbook.readthedocs.io/items/robust_regression.html)"
   ]
  },
  {
   "cell_type": "code",
   "execution_count": null,
   "metadata": {},
   "outputs": [],
   "source": [
    "def generate_data(t, A, sigma, omega, noise=0, n_outliers=0, random_state=0):\n",
    "    y = A * np.exp(-sigma*t) * np.sin(omega*t)\n",
    "    rnd = np.random.RandomState(random_state)\n",
    "    error = noise * rnd.randn(t.size)\n",
    "    outliers = rnd.randint(0, t.size, n_outliers)\n",
    "    error[outliers] = error[outliers] * 35\n",
    "    return y + error\n",
    "\n",
    "# Parametros del modelo\n",
    "A = 2\n",
    "sigma = 0.1\n",
    "omega = 0.1 * 2 * np.pi\n",
    "\n",
    "x_true = np.array([A, sigma, omega])\n",
    "\n",
    "noise = 0.1\n",
    "\n",
    "t_min = 0\n",
    "t_max = 30"
   ]
  },
  {
   "cell_type": "markdown",
   "metadata": {},
   "source": [
    "Una vez creado el modelo estamos listos para generar los datos."
   ]
  },
  {
   "cell_type": "code",
   "execution_count": null,
   "metadata": {},
   "outputs": [],
   "source": [
    "t= np.linspace(t_min, t_max, 30)\n",
    "y_exp = generate_data(t, A, sigma, omega, noise=noise, n_outliers=4)\n",
    "y_true = generate_data(t, A, sigma, omega) # ¿por qué no necesito indicar nada más?"
   ]
  },
  {
   "cell_type": "code",
   "execution_count": null,
   "metadata": {},
   "outputs": [],
   "source": [
    "plt.plot(t, y_exp, 'o', label='exp data')\n",
    "plt.plot(t, y_true, label='true')\n",
    "\n",
    "plt.xlabel('$t$')\n",
    "plt.ylabel('$y$')\n",
    "plt.legend()"
   ]
  },
  {
   "cell_type": "markdown",
   "metadata": {},
   "source": [
    "La función que calcula los residuos se puede definir como:"
   ]
  },
  {
   "cell_type": "code",
   "execution_count": null,
   "metadata": {},
   "outputs": [],
   "source": [
    "def fun_res(x, t, y):\n",
    "    A, sigma, omega = x # parámetros \n",
    "    return (A * np.exp(-sigma * t) * np.sin(omega * t)) - y"
   ]
  },
  {
   "cell_type": "code",
   "execution_count": null,
   "metadata": {},
   "outputs": [],
   "source": [
    "x0 = np.ones(3) # valores inciales de A, sigma y omega"
   ]
  },
  {
   "cell_type": "markdown",
   "metadata": {},
   "source": [
    "Ya tenemos todo lo que necesitamos para realizar el ajuste por mínimos cuadrados"
   ]
  },
  {
   "cell_type": "code",
   "execution_count": null,
   "metadata": {},
   "outputs": [],
   "source": [
    "from scipy.optimize import least_squares"
   ]
  },
  {
   "cell_type": "code",
   "execution_count": null,
   "metadata": {},
   "outputs": [],
   "source": [
    "res_lsq = least_squares(fun_res, x0, args=(t, y_exp))\n",
    "res_lsq"
   ]
  },
  {
   "cell_type": "code",
   "execution_count": null,
   "metadata": {},
   "outputs": [],
   "source": [
    "res_robust = least_squares(fun_res, x0,\n",
    "                           loss='soft_l1', # Norma del tipo L1 (más robusta)\n",
    "                           f_scale=0.1, # restringe los errores\n",
    "                           args=(t, y_exp))\n",
    "res_robust"
   ]
  },
  {
   "cell_type": "markdown",
   "metadata": {},
   "source": [
    "Veamos los resultados:"
   ]
  },
  {
   "cell_type": "code",
   "execution_count": null,
   "metadata": {},
   "outputs": [],
   "source": [
    "y_lsq = generate_data(t, *res_lsq.x)\n",
    "y_robust = generate_data(t, *res_robust.x)\n",
    "\n",
    "plt.plot(t, y_exp, 'o', label='exp data')\n",
    "plt.plot(t, y_true, label='true')\n",
    "plt.plot(t, y_lsq, label='lsq')\n",
    "plt.plot(t, y_robust, label='robust lsq')\n",
    "plt.xlabel('$t$')\n",
    "plt.ylabel('$y$')\n",
    "plt.legend()"
   ]
  },
  {
   "cell_type": "markdown",
   "metadata": {},
   "source": [
    "El paquete `optimize` incluye multitud de métodos para **optimización**, **ajuste de curvas** y **búsqueda de raíces**. La ayuda de este paquete es bastante larga (puedes consultarla también en http://docs.scipy.org/doc/scipy/reference/tutorial/optimize.html)."
   ]
  },
  {
   "cell_type": "markdown",
   "metadata": {},
   "source": [
    "# Procesado de señales ([scipy.signal](https://docs.scipy.org/doc/scipy/reference/signal.html#module-scipy.signal))"
   ]
  },
  {
   "cell_type": "markdown",
   "metadata": {},
   "source": [
    "Afrontémoslo, lo habitual es que tus datos tengan siempre un ruído asociado y no dispongamos de un modelo al que ajustarlos a priori. Bajo esta situación se suelen optar por diferentes técnicas para filtrar la señal."
   ]
  },
  {
   "cell_type": "markdown",
   "metadata": {},
   "source": [
    "Primero generaremos una señal con ruído:"
   ]
  },
  {
   "cell_type": "code",
   "execution_count": null,
   "metadata": {},
   "outputs": [],
   "source": [
    "N = 100 # number of samples\n",
    "\n",
    "T = 1./N # sample spacing\n",
    "\n",
    "t = np.linspace(-1, N*T, N)\n",
    "y = (np.sin(\n",
    "    2*np.pi*0.75*t*(1-t) + 2.1) +\n",
    "    0.1*np.sin(2*np.pi*1.25*t + 1) +\n",
    "    0.18*np.cos(2*np.pi*3.85*t)\n",
    "    )\n",
    "\n",
    "t_exp = (t + 1)\n",
    "y_exp = y + np.random.randn(len(t)) * 0.30 # ruído"
   ]
  },
  {
   "cell_type": "code",
   "execution_count": null,
   "metadata": {},
   "outputs": [],
   "source": [
    "plt.plot(t_exp, y_exp, label='exp data', alpha=0.75)\n",
    "\n",
    "plt.xlabel('$t$')\n",
    "plt.ylabel('$y$')\n",
    "plt.legend()"
   ]
  },
  {
   "cell_type": "markdown",
   "metadata": {},
   "source": [
    "Lo más sencillo en estos casos es aplicar un filtro por ventana:"
   ]
  },
  {
   "cell_type": "code",
   "execution_count": null,
   "metadata": {},
   "outputs": [],
   "source": [
    "from scipy.signal import medfilt\n",
    "\n",
    "n_elements = 11 # nº de elementos de en el que se aplica el filtro \n",
    "y_exp_filt = medfilt(y_exp, n_elements)\n",
    "\n",
    "plt.plot(t_exp, y_exp, label='exp data', alpha=0.55)\n",
    "plt.plot(t_exp, y_exp_filt, label='filt. (median)')\n",
    "plt.plot(t_exp, y, '-k', label='true', )\n",
    "\n",
    "plt.xlabel('$t$')\n",
    "plt.ylabel('$y$')\n",
    "plt.legend()"
   ]
  },
  {
   "cell_type": "markdown",
   "metadata": {},
   "source": [
    "Como podemos ver, si la frecuencia de muestreo no es muy alta o el tamaño de nuestra ventana no es el adecuado, el resultado puede ser no satisfactorio.\n",
    "\n",
    "El filtro de [Savitzky–Golay](https://en.wikipedia.org/wiki/Savitzky%E2%80%93Golay_filter) suele ser interesante en estos casos.\n"
   ]
  },
  {
   "cell_type": "code",
   "execution_count": null,
   "metadata": {},
   "outputs": [],
   "source": [
    "from scipy.signal import savgol_filter\n",
    "\n",
    "n_elements = 11 # nº de elementos de en el que se aplica el filtro \n",
    "polyorder = 3\n",
    "\n",
    "y_exp_filt = savgol_filter(y_exp, n_elements, polyorder)\n",
    "\n",
    "plt.plot(t_exp, y_exp, label='exp data', alpha=0.55)\n",
    "plt.plot(t_exp, y_exp_filt, label='filt. (Savitzky-Golay)')\n",
    "plt.plot(t_exp, y, '-k', label='true', )\n",
    "\n",
    "plt.xlabel('$t$')\n",
    "plt.ylabel('$y$')\n",
    "plt.legend()"
   ]
  },
  {
   "cell_type": "markdown",
   "metadata": {},
   "source": [
    "Si estamos interesados en obtener una señal sinuisidal y dado que el ruído ocurre a una frecuencia más alta, otra opción es generar filtro de paso bajo."
   ]
  },
  {
   "cell_type": "code",
   "execution_count": null,
   "metadata": {},
   "outputs": [],
   "source": [
    "from scipy import signal\n",
    "\n",
    "filt_order = 3 # Filter order\n",
    "Wn = 0.2 # # Cutoff frequency [rad·s^-1]\n",
    "\n",
    "# Create the filter\n",
    "b, a = signal.butter(filt_order, Wn, btype='low')\n",
    "w, h = signal.freqs(b, a)\n",
    "\n",
    "# Second, apply the filter\n",
    "y_exp_lowpass = signal.filtfilt(b,a, y_exp)\n",
    "\n",
    "plt.plot(t_exp, y_exp, label='exp data', alpha=0.55)\n",
    "plt.plot(t_exp, y_exp_lowpass, label='filt. (low pass)')\n",
    "plt.plot(t_exp, y, '-k', label='true', )\n",
    "\n",
    "plt.xlabel('$t$')\n",
    "plt.ylabel('$y$')\n",
    "plt.legend()\n"
   ]
  },
  {
   "cell_type": "markdown",
   "metadata": {},
   "source": [
    "Por último, si la señal tiene un deriva (drifting) podemos corregirla fácilmente con:"
   ]
  },
  {
   "cell_type": "code",
   "execution_count": null,
   "metadata": {},
   "outputs": [],
   "source": [
    "from scipy import signal\n",
    "\n",
    "N = 100\n",
    "\n",
    "t0 = 0\n",
    "tf = 100\n",
    "\n",
    "m = 1\n",
    "b = 0\n",
    "\n",
    "t = np.linspace(t0, tf, N)\n",
    "y = m*t+b\n",
    "\n",
    "y_exp = y + 100* np.random.rand(N)\n",
    "\n",
    "\n",
    "plt.plot(t, y_exp, linewidth=2, label='exp data') \n",
    "\n",
    "plt.plot(t, signal.detrend(y_exp), linewidth=2, label='drift correction') \n",
    "plt.xlabel('$t$')\n",
    "plt.ylabel('$y$')\n",
    "plt.legend()"
   ]
  }
 ],
 "metadata": {
  "kernelspec": {
   "display_name": "Python 3",
   "language": "python",
   "name": "python3"
  },
  "language_info": {
   "codemirror_mode": {
    "name": "ipython",
    "version": 3
   },
   "file_extension": ".py",
   "mimetype": "text/x-python",
   "name": "python",
   "nbconvert_exporter": "python",
   "pygments_lexer": "ipython3",
   "version": "3.7.4"
  }
 },
 "nbformat": 4,
 "nbformat_minor": 4
}
