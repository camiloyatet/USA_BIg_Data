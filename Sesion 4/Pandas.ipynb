{
 "cells": [
  {
   "cell_type": "markdown",
   "metadata": {},
   "source": [
    "<img src=\"https://www.usergioarboleda.edu.co/wp-content/uploads/ultimatum/imagens/logo-mobile-UniversidadSergioArboleda.png\" alt=\"USA\" width=700>"
   ]
  },
  {
   "cell_type": "markdown",
   "metadata": {},
   "source": [
    "<img align=\"center\" width=\"300\" height=\"300\" src=\"https://upload.wikimedia.org/wikipedia/commons/thumb/e/ed/Pandas_logo.svg/1200px-Pandas_logo.svg.png\">"
   ]
  },
  {
   "cell_type": "markdown",
   "metadata": {},
   "source": [
    "[Pandas](https://pandas.pydata.org/) es una extensión de NumPy para manipulación y análisis de datos. En particular, ofrece estructuras de datos y operaciones para manipular tablas numéricas y series temporales.\n",
    "\n",
    "Pandas es muy adecuado para muchos tipos diferentes de datos:\n",
    "\n",
    "- Datos tabulares con columnas, tablas de SQL o una hojas de cálculo de Excel\n",
    "- Datos de series de tiempo ordenados y no ordenados.\n",
    "- Datos de matriz con etiquetas de fila y columna\n",
    "\n",
    "Pandas ofrece las siguientes estructuras de datos:\n",
    "\n",
    "* __Series__: Son arrays unidimensionales con indexación (arrays con índice o etiquetados), similar a los diccionarios. Pueden generarse a partir de diccionarios o de listas.\n",
    " \n",
    "* __DataFrame__: Son estructuras de datos similares a las tablas de bases de datos relacionales como SQL.\n",
    " \n",
    "* __Panel, Panel4D y PanelND__: Estas estructuras de datos permiten trabajar con más de dos dimensiones. \n",
    "\n",
    "Pandas se suele usar en:\n",
    "\n",
    "- Manejo de __datos faltantes__.\n",
    "- Cambios de tamaño: las columnas se pueden __insertar y eliminar__ de DataFrame y objetos de dimensiones superiores.\n",
    "- __Feature Engineering__\n",
    "- Cargue de __archivos planos__, archivos de Excel, bases de datos y formato __HDFS__.\n",
    "- __Series de tiempo__: generación de intervalos de fechas y conversión de frecuencia, cambio de fecha operadores de rezago, etc."
   ]
  },
  {
   "cell_type": "markdown",
   "metadata": {},
   "source": [
    "![wget](https://drive.google.com/uc?export=view&id=1mbFgZLmt0qD80FleVEj4cpxh5oO3ocvQ)"
   ]
  },
  {
   "cell_type": "code",
   "execution_count": null,
   "metadata": {},
   "outputs": [],
   "source": [
    "import numpy as np\n",
    "import pandas as pd"
   ]
  },
  {
   "cell_type": "markdown",
   "metadata": {},
   "source": [
    "### Series"
   ]
  },
  {
   "cell_type": "markdown",
   "metadata": {},
   "source": [
    "La estructura de datos de Series en Pandas es una matriz etiquetada unidimensional.\n",
    "\n",
    "- Los datos de la matriz pueden ser de cualquier tipo (números enteros, cadenas, números de punto flotante, objetos Python, etc.).\n",
    "\n",
    "- Los datos dentro de la matriz son homogéneos.\n",
    "\n",
    "- Los datos pueden ser listas, arrays, o un diccionario."
   ]
  },
  {
   "cell_type": "code",
   "execution_count": null,
   "metadata": {},
   "outputs": [],
   "source": [
    "s1 = pd.Series(np.random.randint(1, high=5, size=100, dtype='l'))\n",
    "s2 = pd.Series(np.random.randint(1, high=4, size=100, dtype='l'))\n",
    "s3 = pd.Series(np.random.randint(10000, high=30001, size=100, dtype='l'))\n",
    "\n",
    "d = pd.concat([s1, s2, s3], axis=1)\n",
    "d.rename(columns = {0: 'bedrs', 1: 'bathrs', 2: 'price_sqr_meter'}, inplace=True)\n",
    "\n",
    "d.head()"
   ]
  },
  {
   "cell_type": "code",
   "execution_count": null,
   "metadata": {},
   "outputs": [],
   "source": [
    "print(d.shape)\n",
    "print(d.dtypes)"
   ]
  },
  {
   "cell_type": "markdown",
   "metadata": {},
   "source": [
    "Es posible especificar los identificadores de columna:"
   ]
  },
  {
   "cell_type": "code",
   "execution_count": null,
   "metadata": {
    "colab": {},
    "colab_type": "code",
    "id": "cFt6Eu9sxjg4"
   },
   "outputs": [],
   "source": [
    "seleccionColombia = pd.Series(\n",
    "    ['Ospina', 'Zapata', 'Falcao', 'Cuadrado', 'Rodriguez'], \n",
    "    index=[1, 2, 9, 11, 10])"
   ]
  },
  {
   "cell_type": "markdown",
   "metadata": {
    "colab_type": "text",
    "id": "XW0oq0Bbxjg_"
   },
   "source": [
    "Como se puede observar con los jugadores Cuadrado y Rodriguez, los índices no tienen que estar necesariamente ordenados. La serie se puede imprimir escribiendo su identificador."
   ]
  },
  {
   "cell_type": "code",
   "execution_count": null,
   "metadata": {
    "colab": {
     "base_uri": "https://localhost:8080/",
     "height": 119
    },
    "colab_type": "code",
    "executionInfo": {
     "elapsed": 2302,
     "status": "ok",
     "timestamp": 1582981612813,
     "user": {
      "displayName": "Beimar Rodriguez",
      "photoUrl": "https://lh3.googleusercontent.com/a-/AOh14GjuX40-0URd_w6GeGbIxaGemRJIwK0vNXOoFOBeCg=s64",
      "userId": "17662544329171634219"
     },
     "user_tz": 300
    },
    "id": "3ginkBKDxjg_",
    "outputId": "3ebbf8af-aece-40a2-aa50-97ba91ad3c00"
   },
   "outputs": [],
   "source": [
    "seleccionColombia"
   ]
  },
  {
   "cell_type": "markdown",
   "metadata": {
    "colab_type": "text",
    "id": "LY1cRCfDxjhF"
   },
   "source": [
    "Una serie se puede generar sin conocer los índices y Pandas los generará automáticamente con valores desde cero hasta el tamaño de la lista menos uno. En el caso de la misma serie:"
   ]
  },
  {
   "cell_type": "code",
   "execution_count": null,
   "metadata": {
    "colab": {
     "base_uri": "https://localhost:8080/",
     "height": 119
    },
    "colab_type": "code",
    "executionInfo": {
     "elapsed": 2284,
     "status": "ok",
     "timestamp": 1582981612814,
     "user": {
      "displayName": "Beimar Rodriguez",
      "photoUrl": "https://lh3.googleusercontent.com/a-/AOh14GjuX40-0URd_w6GeGbIxaGemRJIwK0vNXOoFOBeCg=s64",
      "userId": "17662544329171634219"
     },
     "user_tz": 300
    },
    "id": "O0Gk2GzGxjhG",
    "outputId": "d12fca16-0eb8-4daf-c48a-ad454a95d1cc"
   },
   "outputs": [],
   "source": [
    "seleccionColombia = pd.Series(\n",
    "    ['Ospina', 'Zapata', 'Falcao', 'Cuadrado', 'Rodriguez'])\n",
    "seleccionColombia"
   ]
  },
  {
   "cell_type": "markdown",
   "metadata": {
    "colab_type": "text",
    "id": "pBFeP2V4XKVJ"
   },
   "source": [
    "### Series desde Diccionarios\n",
    "\n",
    "Las series tambien pueden ser definidas desde diccionarios:"
   ]
  },
  {
   "cell_type": "code",
   "execution_count": null,
   "metadata": {
    "colab": {
     "base_uri": "https://localhost:8080/",
     "height": 34
    },
    "colab_type": "code",
    "executionInfo": {
     "elapsed": 2260,
     "status": "ok",
     "timestamp": 1582981612814,
     "user": {
      "displayName": "Beimar Rodriguez",
      "photoUrl": "https://lh3.googleusercontent.com/a-/AOh14GjuX40-0URd_w6GeGbIxaGemRJIwK0vNXOoFOBeCg=s64",
      "userId": "17662544329171634219"
     },
     "user_tz": 300
    },
    "id": "pCBVYaIQXJng",
    "outputId": "3e879cc7-de19-4a87-99c8-8f5a05a44c67"
   },
   "outputs": [],
   "source": [
    "dict_selcol = {1:'Ospina', 2: 'Zapata', 9: 'Falcao', 11: 'Cuadrado', 10: 'Rodriguez'}\n",
    "print(dict_selcol)"
   ]
  },
  {
   "cell_type": "code",
   "execution_count": null,
   "metadata": {
    "colab": {
     "base_uri": "https://localhost:8080/",
     "height": 119
    },
    "colab_type": "code",
    "executionInfo": {
     "elapsed": 2240,
     "status": "ok",
     "timestamp": 1582981612815,
     "user": {
      "displayName": "Beimar Rodriguez",
      "photoUrl": "https://lh3.googleusercontent.com/a-/AOh14GjuX40-0URd_w6GeGbIxaGemRJIwK0vNXOoFOBeCg=s64",
      "userId": "17662544329171634219"
     },
     "user_tz": 300
    },
    "id": "ieqjH9mRX0d9",
    "outputId": "9dc79168-1b44-4b87-cee2-673d00e3b95e"
   },
   "outputs": [],
   "source": [
    "\n",
    "ser_selcol = pd.Series(dict_selcol)\n",
    "ser_selcol.tail()"
   ]
  },
  {
   "cell_type": "markdown",
   "metadata": {},
   "source": [
    "### DataFrames"
   ]
  },
  {
   "cell_type": "markdown",
   "metadata": {
    "colab_type": "text",
    "id": "sLaWRriUxjhL"
   },
   "source": [
    "Un DataFrame es una estructura de datos que almacena la información como una tabla ordenada por filas y columnas. Cada fila representa un objeto y cada columna la información correspondiente a una característica de los objetos.\n",
    "\n",
    "Un DataFrame también posee índices por cada fila, que pueden ser dados o generados automáticamente. Cada columna del DataFrame es una serie, donde el valor del índice corresponde con los valores de índice que tiene el DataFrame.\n",
    "\n",
    "Por medio de un diccionario vamos a crear un dataframe, donde las llaves son los nombres de las columnas y los valores son la lista de valores que tienen las características.\n",
    "\n",
    "Por ejemplo, para hacer un DataFrame con el equipo de fútbol anterior, pero agregando estatura y peso, podemos hacerlo de la siguiente manera:"
   ]
  },
  {
   "cell_type": "code",
   "execution_count": null,
   "metadata": {
    "colab": {},
    "colab_type": "code",
    "id": "iwWg6SVzxjhL"
   },
   "outputs": [],
   "source": [
    "dict_caracteristicas = {'apellido':['Ospina', 'Zapata', 'Falcao', 'Cuadrado', 'Rodriguez'],\n",
    "                       'altura':[183.0,187.0,177.0,179.0,180.0],\n",
    "                       'peso':[80.0,82.0,72.0,72.0,75.0]}\n",
    "\n",
    "seleccionColombia = pd.DataFrame(dict_caracteristicas,index=[1, 2, 9, 11, 10])"
   ]
  },
  {
   "cell_type": "markdown",
   "metadata": {
    "colab_type": "text",
    "id": "BHptNpaLxjhS"
   },
   "source": [
    "Al imprimir el DataFrame, podemos observar que su estructura es similar a la de un documento en Excel, donde el índice (que no tiene nombre de columna) es el número del jugador."
   ]
  },
  {
   "cell_type": "code",
   "execution_count": null,
   "metadata": {
    "colab": {
     "base_uri": "https://localhost:8080/",
     "height": 204
    },
    "colab_type": "code",
    "executionInfo": {
     "elapsed": 2143,
     "status": "ok",
     "timestamp": 1582981612816,
     "user": {
      "displayName": "Beimar Rodriguez",
      "photoUrl": "https://lh3.googleusercontent.com/a-/AOh14GjuX40-0URd_w6GeGbIxaGemRJIwK0vNXOoFOBeCg=s64",
      "userId": "17662544329171634219"
     },
     "user_tz": 300
    },
    "id": "7uf02_lNxjhT",
    "outputId": "ea0d1670-abad-4b6d-ad00-4d4ce4972a9f"
   },
   "outputs": [],
   "source": [
    "seleccionColombia"
   ]
  },
  {
   "cell_type": "markdown",
   "metadata": {},
   "source": [
    "Tomando el ejemplo anterior de los datos simulados"
   ]
  },
  {
   "cell_type": "code",
   "execution_count": null,
   "metadata": {},
   "outputs": [],
   "source": [
    "data = pd.DataFrame(d)\n",
    "data"
   ]
  },
  {
   "cell_type": "markdown",
   "metadata": {},
   "source": [
    "### Lectura de Archivos Externos"
   ]
  },
  {
   "cell_type": "markdown",
   "metadata": {},
   "source": [
    "Mediante la funcion [read_csv](http://pandas.pydata.org/pandas-docs/stable/generated/pandas.read_csv.html) es posible cargar archivos planos separados por comas. Análogamente __read_table__ carga archivos separados por tabulaciones"
   ]
  },
  {
   "cell_type": "markdown",
   "metadata": {},
   "source": [
    "##### Data Frame 1 \n",
    "\n",
    "Lectura de ordenes en un restaurante, el archivo de datos esta cargado en el [link](http://bit.ly/chiporders)"
   ]
  },
  {
   "cell_type": "code",
   "execution_count": null,
   "metadata": {},
   "outputs": [],
   "source": [
    "orders = pd.read_table('http://bit.ly/chiporders')\n",
    "orders.head()"
   ]
  },
  {
   "cell_type": "markdown",
   "metadata": {},
   "source": [
    "##### Data Frame 2\n",
    "\n",
    "Lectura un archivo local de avistamiento de OVNIS"
   ]
  },
  {
   "cell_type": "code",
   "execution_count": null,
   "metadata": {},
   "outputs": [],
   "source": [
    "ufo = pd.read_table('data/ufo.csv', sep=\",\")\n",
    "ufo.head()"
   ]
  },
  {
   "cell_type": "code",
   "execution_count": null,
   "metadata": {},
   "outputs": [],
   "source": [
    "ufo.dtypes"
   ]
  },
  {
   "cell_type": "code",
   "execution_count": null,
   "metadata": {},
   "outputs": [],
   "source": [
    "ufo.shape"
   ]
  },
  {
   "cell_type": "code",
   "execution_count": null,
   "metadata": {},
   "outputs": [],
   "source": [
    "ufo['City'].head() # Seleccion de una columna con notacion de nombre"
   ]
  },
  {
   "cell_type": "code",
   "execution_count": null,
   "metadata": {},
   "outputs": [],
   "source": [
    "ufo.City.head() # Seleccion de una columna con notacion de objeto"
   ]
  },
  {
   "cell_type": "markdown",
   "metadata": {},
   "source": [
    "La notacion de brackets [] siempre funciona mientras que la notación del punto tiene limitaciones:\n",
    "\n",
    "- La notación de puntos no funciona si hay espacios en el nombre de la serie\n",
    "- La notación de puntos no funciona si la Serie tiene el mismo nombre que un método o atributo de DataFrame (como 'head' o 'shape')\n",
    "- No se puede utilizar la notación de puntos para definir el nombre de una nueva serie"
   ]
  },
  {
   "cell_type": "markdown",
   "metadata": {},
   "source": [
    "##### Data Frame 3"
   ]
  },
  {
   "cell_type": "code",
   "execution_count": null,
   "metadata": {},
   "outputs": [],
   "source": [
    "movies = pd.read_csv('data/imdb.csv')\n",
    "movies.head()"
   ]
  },
  {
   "cell_type": "markdown",
   "metadata": {},
   "source": [
    "#### Descriptivos iniciales"
   ]
  },
  {
   "cell_type": "code",
   "execution_count": null,
   "metadata": {},
   "outputs": [],
   "source": [
    "movies.describe()"
   ]
  },
  {
   "cell_type": "code",
   "execution_count": null,
   "metadata": {},
   "outputs": [],
   "source": [
    "movies.shape"
   ]
  },
  {
   "cell_type": "markdown",
   "metadata": {},
   "source": [
    "Nota: Los __métodos__ terminan con paréntesis, mientras que los __atributos__ no"
   ]
  },
  {
   "cell_type": "code",
   "execution_count": null,
   "metadata": {},
   "outputs": [],
   "source": [
    "movies.dtypes"
   ]
  },
  {
   "cell_type": "code",
   "execution_count": null,
   "metadata": {},
   "outputs": [],
   "source": [
    "# describir el método para resumir sólo las columnas 'object'\n",
    "movies.describe(include=['object'])"
   ]
  },
  {
   "cell_type": "markdown",
   "metadata": {},
   "source": [
    "Ahora vamos a obtener el numero de peliculas por clasificación de contenido ( R, PG-13, PG.. etc):"
   ]
  },
  {
   "cell_type": "code",
   "execution_count": null,
   "metadata": {},
   "outputs": [],
   "source": [
    "movie_ratings = movies['content_rating'].value_counts()"
   ]
  },
  {
   "cell_type": "code",
   "execution_count": null,
   "metadata": {},
   "outputs": [],
   "source": [
    "%matplotlib inline\n",
    "import matplotlib.pyplot as plt\n",
    "plt.rcParams['figure.figsize'] = (15, 5)\n",
    "\n",
    "movie_ratings.plot(kind='bar')"
   ]
  },
  {
   "cell_type": "markdown",
   "metadata": {},
   "source": [
    "#### Accediendo a los datos "
   ]
  },
  {
   "cell_type": "markdown",
   "metadata": {},
   "source": [
    "### Columnas"
   ]
  },
  {
   "cell_type": "markdown",
   "metadata": {},
   "source": [
    "Tenemos dos formas de acceder a las columnas: **por nombre** o **por atributo** (si no contienen espacios ni caracteres especiales)."
   ]
  },
  {
   "cell_type": "code",
   "execution_count": null,
   "metadata": {
    "scrolled": true
   },
   "outputs": [],
   "source": [
    "# Accediendo como clave\n",
    "movies['star_rating'].head()"
   ]
  },
  {
   "cell_type": "code",
   "execution_count": null,
   "metadata": {
    "scrolled": true
   },
   "outputs": [],
   "source": [
    "# Accediendo como atributo\n",
    "movies.star_rating.head()"
   ]
  },
  {
   "cell_type": "code",
   "execution_count": null,
   "metadata": {
    "scrolled": true
   },
   "outputs": [],
   "source": [
    "# Accediendo a varias columnas a la vez\n",
    "movies[['star_rating', 'genre']].head()"
   ]
  },
  {
   "cell_type": "markdown",
   "metadata": {},
   "source": [
    "Es posible hacer funcionescon dichos objetos por ejemplo:"
   ]
  },
  {
   "cell_type": "code",
   "execution_count": null,
   "metadata": {},
   "outputs": [],
   "source": [
    "# Aplicando una función a una columna entera (ej. primedio)\n",
    "np.mean(movies.star_rating)"
   ]
  },
  {
   "cell_type": "code",
   "execution_count": null,
   "metadata": {},
   "outputs": [],
   "source": [
    "# Calculando la media con pandas\n",
    "movies.star_rating.mean()"
   ]
  },
  {
   "cell_type": "markdown",
   "metadata": {},
   "source": [
    "### Filas "
   ]
  },
  {
   "cell_type": "code",
   "execution_count": null,
   "metadata": {},
   "outputs": [],
   "source": [
    "movies.head()"
   ]
  },
  {
   "cell_type": "markdown",
   "metadata": {},
   "source": [
    "Para acceder a las filas tenemos dos métodos: `.loc` (basado en etiquetas de fila), `.iloc` (basado en posiciones enteras de fila)"
   ]
  },
  {
   "cell_type": "code",
   "execution_count": null,
   "metadata": {},
   "outputs": [],
   "source": [
    "# Accediendo a una fila por índice\n",
    "movies.iloc[1]"
   ]
  },
  {
   "cell_type": "code",
   "execution_count": null,
   "metadata": {},
   "outputs": [],
   "source": [
    "movies.loc[2:6]"
   ]
  },
  {
   "cell_type": "markdown",
   "metadata": {},
   "source": [
    "#### Renombrar Columnas"
   ]
  },
  {
   "cell_type": "markdown",
   "metadata": {},
   "source": [
    "Reemplazar todos los nombres de columnas sobrescribiendo el atributo 'columns'"
   ]
  },
  {
   "cell_type": "code",
   "execution_count": null,
   "metadata": {},
   "outputs": [],
   "source": [
    "ufo_cols = ['city', 'colors_reported', 'shape_reported', 'state', 'time']\n",
    "ufo.columns = ufo_cols\n",
    "ufo.head()"
   ]
  },
  {
   "cell_type": "markdown",
   "metadata": {},
   "source": [
    "Renombrar dos de las columnas mediante el método 'rename'"
   ]
  },
  {
   "cell_type": "code",
   "execution_count": null,
   "metadata": {},
   "outputs": [],
   "source": [
    "ufo.rename(columns={'colors_reported':'Colors_Reported_test', 'shape_reported':'Shape_Reported_test'}, inplace=True)\n",
    "ufo.head()"
   ]
  },
  {
   "cell_type": "markdown",
   "metadata": {},
   "source": [
    "#### Elminar Columnas"
   ]
  },
  {
   "cell_type": "markdown",
   "metadata": {},
   "source": [
    "La columna __Colors_Reported_test__ solo tiene datos ausentes por lo que se debe eliminar. Para remover una columna se usa el método __drop__ :"
   ]
  },
  {
   "cell_type": "code",
   "execution_count": null,
   "metadata": {},
   "outputs": [],
   "source": [
    "ufo.drop('Colors_Reported_test', axis=1, inplace=True) # (axis=1 se refiere a columnas)\n",
    "ufo.head()"
   ]
  },
  {
   "cell_type": "code",
   "execution_count": null,
   "metadata": {},
   "outputs": [],
   "source": [
    "# Eliminar varias columnas a la vez\n",
    "ufo.drop(['city', 'time'], axis=1, inplace=True)\n",
    "ufo.head()"
   ]
  },
  {
   "cell_type": "markdown",
   "metadata": {},
   "source": [
    "#### Eliminar Filas"
   ]
  },
  {
   "cell_type": "code",
   "execution_count": null,
   "metadata": {},
   "outputs": [],
   "source": [
    "# Eliminar varias filas a la vez (axis=0 se refiere a filas)\n",
    "ufo.drop([0, 1], axis=0, inplace=True)\n",
    "ufo.head()"
   ]
  },
  {
   "cell_type": "markdown",
   "metadata": {},
   "source": [
    "#### Ordenar Dataframes"
   ]
  },
  {
   "cell_type": "markdown",
   "metadata": {},
   "source": [
    "Si se quiere ordenar se usa el metodo sort_values()"
   ]
  },
  {
   "cell_type": "code",
   "execution_count": null,
   "metadata": {},
   "outputs": [],
   "source": [
    "movies.head(3)"
   ]
  },
  {
   "cell_type": "code",
   "execution_count": null,
   "metadata": {},
   "outputs": [],
   "source": [
    "movies.title.sort_values(ascending=False).head() # orden descendente"
   ]
  },
  {
   "cell_type": "markdown",
   "metadata": {},
   "source": [
    "Ordenar todo el DataFrame por la serie 'title'. Nótese que mantiene el idice de la fila"
   ]
  },
  {
   "cell_type": "code",
   "execution_count": null,
   "metadata": {},
   "outputs": [],
   "source": [
    "movies.sort_values('title').head()"
   ]
  },
  {
   "cell_type": "markdown",
   "metadata": {},
   "source": [
    "#### Filtrar Dataframes"
   ]
  },
  {
   "cell_type": "markdown",
   "metadata": {},
   "source": [
    "Se quiere filtrar las filas de DataFrame para mostrar sólo películas con una \"duración\" de al menos 200 minutos."
   ]
  },
  {
   "cell_type": "code",
   "execution_count": null,
   "metadata": {},
   "outputs": [],
   "source": [
    "is_long = movies.duration >= 200\n",
    "is_long.head()"
   ]
  },
  {
   "cell_type": "code",
   "execution_count": null,
   "metadata": {},
   "outputs": [],
   "source": [
    "movies[is_long].head()"
   ]
  },
  {
   "cell_type": "code",
   "execution_count": null,
   "metadata": {},
   "outputs": [],
   "source": [
    "movies[movies.duration >= 200].head()"
   ]
  },
  {
   "cell_type": "markdown",
   "metadata": {},
   "source": [
    "Ahora se quiere filtrar el DataFrame original para mostrar películas con un 'genre' de 'Crime' o 'Drama' o 'Action' "
   ]
  },
  {
   "cell_type": "code",
   "execution_count": null,
   "metadata": {},
   "outputs": [],
   "source": [
    "# Utiliza el operador '|' para especificar que una fila puede coincidir con cualquiera de los tres criterios\n",
    "movies[(movies.genre == 'Crime') | (movies.genre == 'Drama') | (movies.genre == 'Action')].head()\n",
    "\n",
    "# O de forma equivalente, use el método 'isin'\n",
    "movies[movies.genre.isin(['Crime', 'Drama', 'Action'])].head()"
   ]
  },
  {
   "cell_type": "markdown",
   "metadata": {},
   "source": [
    "#### Agrupaciones en Dataframes\n",
    "\n",
    "El método groupby permite agrupar filas de datos basándose en el valor de una columna, y llamar a funciones de agregación sobre los datos: suma, conteo, promedio, ...\n",
    "\n",
    "![](https://drive.google.com/uc?export=view&id=1dxdpTG6ZJovzaxzerMFLPIv8daDlfFvV)"
   ]
  },
  {
   "cell_type": "code",
   "execution_count": null,
   "metadata": {},
   "outputs": [],
   "source": [
    "drinks = pd.read_csv('http://bit.ly/drinksbycountry')\n",
    "drinks.head()"
   ]
  },
  {
   "cell_type": "code",
   "execution_count": null,
   "metadata": {},
   "outputs": [],
   "source": [
    "drinks.shape"
   ]
  },
  {
   "cell_type": "code",
   "execution_count": null,
   "metadata": {},
   "outputs": [],
   "source": [
    "drinks.dtypes"
   ]
  },
  {
   "cell_type": "code",
   "execution_count": null,
   "metadata": {},
   "outputs": [],
   "source": [
    "# Calcula el promedio de cervezas servidas solo en paises del continente africano\n",
    "drinks[drinks.continent=='Africa'].beer_servings.mean()"
   ]
  },
  {
   "cell_type": "code",
   "execution_count": null,
   "metadata": {},
   "outputs": [],
   "source": [
    "# Calcula el promedio de cervezas servidas por cada continente\n",
    "drinks.groupby('continent').beer_servings.mean()"
   ]
  },
  {
   "cell_type": "code",
   "execution_count": null,
   "metadata": {
    "scrolled": true
   },
   "outputs": [],
   "source": [
    "# Promedio general de todas las variables por continente\n",
    "drinks.groupby('continent').mean()"
   ]
  },
  {
   "cell_type": "code",
   "execution_count": null,
   "metadata": {},
   "outputs": [],
   "source": [
    "# Diagrama de barras de lado a lado del DataFrame de arriba\n",
    "\n",
    "drinks.groupby('continent').beer_servings.mean().plot(kind='bar')"
   ]
  },
  {
   "cell_type": "markdown",
   "metadata": {},
   "source": [
    "#### Manejando Valores ausentes o Missing Values\n",
    "\n",
    "¿Qué significa \"NaN\"? \n",
    "\n",
    "- \"NaN\" no es una cadena, sino que es un valor especial: __numpy.nan__. \n",
    "- Representa \"Not a number\" e indica un valor faltante. \n",
    "- __read_csv__ detecta los valores perdidos (de forma predeterminada) al leer el archivo y los reemplaza con este valor especial."
   ]
  },
  {
   "cell_type": "code",
   "execution_count": null,
   "metadata": {},
   "outputs": [],
   "source": [
    "# Leyendo el dataset de reportes de avistamientos en un dataframe\n",
    "ufo = pd.read_csv('data/ufo.csv')\n",
    "ufo.tail()"
   ]
  },
  {
   "cell_type": "code",
   "execution_count": null,
   "metadata": {},
   "outputs": [],
   "source": [
    "# Si color reported es null retornara True\n",
    "ufo['Colors Reported'].isnull().tail()"
   ]
  },
  {
   "cell_type": "code",
   "execution_count": null,
   "metadata": {},
   "outputs": [],
   "source": [
    "# Caso contrario retornara False con notnull()\n",
    "ufo['Colors Reported'].notnull().tail()"
   ]
  },
  {
   "cell_type": "code",
   "execution_count": null,
   "metadata": {},
   "outputs": [],
   "source": [
    "# Nos devuelve el dataframe con las columnas vacias de City\n",
    "ufo[ufo.City.isnull()].head()"
   ]
  },
  {
   "cell_type": "code",
   "execution_count": null,
   "metadata": {},
   "outputs": [],
   "source": [
    "# Devuelve el numero de filas y columnas\n",
    "ufo.shape"
   ]
  },
  {
   "cell_type": "code",
   "execution_count": null,
   "metadata": {},
   "outputs": [],
   "source": [
    "# Si faltan 'algun (any)' valor en una fila entonces elimina esa fila esa fila\n",
    "ufo.dropna(how='any').shape"
   ]
  },
  {
   "cell_type": "code",
   "execution_count": null,
   "metadata": {},
   "outputs": [],
   "source": [
    "# Si faltan todos(all) los valores en una fila, entonces elimina esa fila (no se eliminan en este caso)\n",
    "ufo.dropna(how='all').shape"
   ]
  },
  {
   "cell_type": "code",
   "execution_count": null,
   "metadata": {},
   "outputs": [],
   "source": [
    "# Si falta algun valor en una fila (teniendo en cuenta sólo 'City' y 'Shape Reported'), entonces se elimina esa fila\n",
    "ufo.dropna(subset=['City', 'Shape Reported'], how='any').shape"
   ]
  },
  {
   "cell_type": "code",
   "execution_count": null,
   "metadata": {},
   "outputs": [],
   "source": [
    "# Si \"all\" los valores estan faltantes en una filla (considerando solo 'City' y 'Shape Reported') entonces elimina esa fila\n",
    "ufo.dropna(subset=['City', 'Shape Reported'], how='all').shape"
   ]
  },
  {
   "cell_type": "code",
   "execution_count": null,
   "metadata": {},
   "outputs": [],
   "source": [
    "# 'value_counts' no incluye missing values por defecto\n",
    "ufo['Shape Reported'].value_counts().head()"
   ]
  },
  {
   "cell_type": "code",
   "execution_count": null,
   "metadata": {},
   "outputs": [],
   "source": [
    "# Incluye explícitamente los missing values\n",
    "ufo['Shape Reported'].value_counts(dropna=False).head()"
   ]
  },
  {
   "cell_type": "code",
   "execution_count": null,
   "metadata": {},
   "outputs": [],
   "source": [
    "# Rellenar los valores faltantes con un valor especificado\n",
    "ufo['Shape Reported'].fillna(value='VARIOUS', inplace=True)"
   ]
  },
  {
   "cell_type": "code",
   "execution_count": null,
   "metadata": {},
   "outputs": [],
   "source": [
    "# Confirmar que los valores faltantes fueron rellenados\n",
    "ufo['Shape Reported'].value_counts().head()"
   ]
  },
  {
   "cell_type": "markdown",
   "metadata": {},
   "source": [
    "### Series de Tiempo"
   ]
  },
  {
   "cell_type": "code",
   "execution_count": null,
   "metadata": {
    "scrolled": true
   },
   "outputs": [],
   "source": [
    "# Leyendo el dataset de reportes de avistamientos en un dataframe\n",
    "ufo = pd.read_csv('data/ufo.csv')\n",
    "ufo.head()"
   ]
  },
  {
   "cell_type": "code",
   "execution_count": null,
   "metadata": {},
   "outputs": [],
   "source": [
    "ufo.dtypes"
   ]
  },
  {
   "cell_type": "code",
   "execution_count": null,
   "metadata": {},
   "outputs": [],
   "source": [
    "# Convierte 'Time' a un datetime format\n",
    "ufo['Time'] = pd.to_datetime(ufo.Time)\n",
    "ufo['Time'].head()"
   ]
  },
  {
   "cell_type": "code",
   "execution_count": null,
   "metadata": {},
   "outputs": [],
   "source": [
    "ufo.dtypes"
   ]
  },
  {
   "cell_type": "code",
   "execution_count": null,
   "metadata": {},
   "outputs": [],
   "source": [
    "# Extraer el año de una variable de fecha\n",
    "ufo['Year'] = ufo.Time.dt.year\n",
    "ufo['Year'].head()"
   ]
  },
  {
   "cell_type": "code",
   "execution_count": null,
   "metadata": {},
   "outputs": [],
   "source": [
    "# Grafica el número de informes de OVNI por año\n",
    "\n",
    "ufo.Year.value_counts().sort_index().plot()"
   ]
  },
  {
   "cell_type": "markdown",
   "metadata": {
    "colab_type": "text",
    "id": "3JHbzTjyOgbM"
   },
   "source": [
    "## Combinando DataFrames\n",
    "\n",
    "Hay 3 maneras de combinar DataFrames:\n",
    "Concatenar (concat)\n",
    "Fusionar (merge)\n",
    "Unir (join)\n",
    "\n",
    "![wget](https://drive.google.com/uc?export=view&id=1wmJo-FJnofniKEkF-3RRR-Mk9IVuc-Nx)"
   ]
  },
  {
   "cell_type": "markdown",
   "metadata": {
    "colab_type": "text",
    "id": "FPURtHS8vU0b"
   },
   "source": [
    "_____\n",
    "** DataFrames de ejemplo **"
   ]
  },
  {
   "cell_type": "code",
   "execution_count": null,
   "metadata": {
    "colab": {},
    "colab_type": "code",
    "id": "rq5jgCmHvUz-"
   },
   "outputs": [],
   "source": [
    "df1 = pd.DataFrame({'A': ['A0', 'A1', 'A2', 'A3'],\n",
    "                        'B': ['B0', 'B1', 'B2', 'B3'],\n",
    "                        'C': ['C0', 'C1', 'C2', 'C3'],\n",
    "                        'D': ['D0', 'D1', 'D2', 'D3']},\n",
    "                        index=[0, 1, 2, 3])"
   ]
  },
  {
   "cell_type": "code",
   "execution_count": null,
   "metadata": {
    "colab": {},
    "colab_type": "code",
    "id": "p3mgfL2-vU0C"
   },
   "outputs": [],
   "source": [
    "df2 = pd.DataFrame({'A': ['A4', 'A5', 'A6', 'A7'],\n",
    "                        'B': ['B4', 'B5', 'B6', 'B7'],\n",
    "                        'C': ['C4', 'C5', 'C6', 'C7'],\n",
    "                        'D': ['D4', 'D5', 'D6', 'D7']},\n",
    "                         index=[4, 5, 6, 7]) "
   ]
  },
  {
   "cell_type": "code",
   "execution_count": null,
   "metadata": {
    "colab": {},
    "colab_type": "code",
    "id": "lF9FMlWLvU0F"
   },
   "outputs": [],
   "source": [
    "df3 = pd.DataFrame({'A': ['A8', 'A9', 'A10', 'A11'],\n",
    "                        'B': ['B8', 'B9', 'B10', 'B11'],\n",
    "                        'C': ['C8', 'C9', 'C10', 'C11'],\n",
    "                        'D': ['D8', 'D9', 'D10', 'D11']},\n",
    "                        index=[8, 9, 10, 11])"
   ]
  },
  {
   "cell_type": "code",
   "execution_count": null,
   "metadata": {
    "colab": {
     "base_uri": "https://localhost:8080/",
     "height": 173
    },
    "colab_type": "code",
    "executionInfo": {
     "elapsed": 416,
     "status": "ok",
     "timestamp": 1582981870543,
     "user": {
      "displayName": "Beimar Rodriguez",
      "photoUrl": "https://lh3.googleusercontent.com/a-/AOh14GjuX40-0URd_w6GeGbIxaGemRJIwK0vNXOoFOBeCg=s64",
      "userId": "17662544329171634219"
     },
     "user_tz": 300
    },
    "id": "Ktcc-50KoE7K",
    "outputId": "bf528658-ef79-40d6-f597-50c82c1fcac2"
   },
   "outputs": [],
   "source": [
    "df3"
   ]
  },
  {
   "cell_type": "markdown",
   "metadata": {
    "colab_type": "text",
    "id": "k0v5XJ7FvU0W"
   },
   "source": [
    "### Concatenar (concat)\n",
    "\n",
    "La concatenación básicamente pega DataFrames, uno después de otro. Hay que tener en cuenta que las dimensiones deben coincidir a lo largo del eje con el que se está concatenando. \n",
    "\n",
    "Puede usar **pd.concat** y pasar una lista de DataFrames para concatenarlos:"
   ]
  },
  {
   "cell_type": "code",
   "execution_count": null,
   "metadata": {
    "colab": {
     "base_uri": "https://localhost:8080/",
     "height": 421
    },
    "colab_type": "code",
    "executionInfo": {
     "elapsed": 474,
     "status": "ok",
     "timestamp": 1582981888007,
     "user": {
      "displayName": "Beimar Rodriguez",
      "photoUrl": "https://lh3.googleusercontent.com/a-/AOh14GjuX40-0URd_w6GeGbIxaGemRJIwK0vNXOoFOBeCg=s64",
      "userId": "17662544329171634219"
     },
     "user_tz": 300
    },
    "id": "Weo0mEO2vU0W",
    "outputId": "2005cd06-609c-4244-996c-9c5b63b966b8"
   },
   "outputs": [],
   "source": [
    "pd.concat([df1,df2,df3])"
   ]
  },
  {
   "cell_type": "code",
   "execution_count": null,
   "metadata": {
    "colab": {
     "base_uri": "https://localhost:8080/",
     "height": 421
    },
    "colab_type": "code",
    "executionInfo": {
     "elapsed": 433,
     "status": "ok",
     "timestamp": 1582981891991,
     "user": {
      "displayName": "Beimar Rodriguez",
      "photoUrl": "https://lh3.googleusercontent.com/a-/AOh14GjuX40-0URd_w6GeGbIxaGemRJIwK0vNXOoFOBeCg=s64",
      "userId": "17662544329171634219"
     },
     "user_tz": 300
    },
    "id": "FDnhNWTTvU0Z",
    "outputId": "a408ac1a-0ce8-469b-b699-66c3c6ed1312"
   },
   "outputs": [],
   "source": [
    "pd.concat([df1,df2,df3],axis=1)    # axis=1 concatena a lo largo de las columnas, llenando las celdas desconocidas con NaN "
   ]
  },
  {
   "cell_type": "markdown",
   "metadata": {
    "colab_type": "text",
    "id": "gHU6fxrkvU0j"
   },
   "source": [
    "___"
   ]
  },
  {
   "cell_type": "markdown",
   "metadata": {
    "colab_type": "text",
    "id": "RWofIsgTvU0j"
   },
   "source": [
    "### Fusionar (merge)\n",
    "\n",
    "La función **merge** permite fusionar DataFrames utilizando una lógica similar a la combinación de Tablas SQL. Por ejemplo:\n"
   ]
  },
  {
   "cell_type": "code",
   "execution_count": null,
   "metadata": {
    "colab": {},
    "colab_type": "code",
    "id": "NdIYPCfZvU0c"
   },
   "outputs": [],
   "source": [
    "izq = pd.DataFrame({'key': ['K0', 'K1', 'K2', 'K3','k4'],\n",
    "                     'A': ['A0', 'A1', 'A2', 'A3','A4'],\n",
    "                     'B': ['B0', 'B1', 'B2', 'B3','B4']})\n",
    "   \n",
    "der = pd.DataFrame({'key': ['K0', 'K1', 'K2', 'K3'],\n",
    "                          'C': ['C0', 'C1', 'C2', 'C3'],\n",
    "                          'D': ['D0', 'D1', 'D2', 'D3']})    "
   ]
  },
  {
   "cell_type": "code",
   "execution_count": null,
   "metadata": {
    "colab": {
     "base_uri": "https://localhost:8080/",
     "height": 204
    },
    "colab_type": "code",
    "executionInfo": {
     "elapsed": 499,
     "status": "ok",
     "timestamp": 1582982201831,
     "user": {
      "displayName": "Beimar Rodriguez",
      "photoUrl": "https://lh3.googleusercontent.com/a-/AOh14GjuX40-0URd_w6GeGbIxaGemRJIwK0vNXOoFOBeCg=s64",
      "userId": "17662544329171634219"
     },
     "user_tz": 300
    },
    "id": "GkawfRzdvU0d",
    "outputId": "8c445101-76a3-4d52-d278-b2bd9d26e3e8"
   },
   "outputs": [],
   "source": [
    "izq"
   ]
  },
  {
   "cell_type": "code",
   "execution_count": null,
   "metadata": {
    "colab": {
     "base_uri": "https://localhost:8080/",
     "height": 173
    },
    "colab_type": "code",
    "executionInfo": {
     "elapsed": 465,
     "status": "ok",
     "timestamp": 1582982205436,
     "user": {
      "displayName": "Beimar Rodriguez",
      "photoUrl": "https://lh3.googleusercontent.com/a-/AOh14GjuX40-0URd_w6GeGbIxaGemRJIwK0vNXOoFOBeCg=s64",
      "userId": "17662544329171634219"
     },
     "user_tz": 300
    },
    "id": "eA8yYvmCvU0g",
    "outputId": "16eadb0b-8ea6-4653-a3f7-00f58c585428"
   },
   "outputs": [],
   "source": [
    "der"
   ]
  },
  {
   "cell_type": "code",
   "execution_count": null,
   "metadata": {
    "colab": {
     "base_uri": "https://localhost:8080/",
     "height": 173
    },
    "colab_type": "code",
    "executionInfo": {
     "elapsed": 468,
     "status": "ok",
     "timestamp": 1582982208368,
     "user": {
      "displayName": "Beimar Rodriguez",
      "photoUrl": "https://lh3.googleusercontent.com/a-/AOh14GjuX40-0URd_w6GeGbIxaGemRJIwK0vNXOoFOBeCg=s64",
      "userId": "17662544329171634219"
     },
     "user_tz": 300
    },
    "id": "otjpSiJ9vU0k",
    "outputId": "ed751b00-84e8-43c7-ec38-1bb6629b9377"
   },
   "outputs": [],
   "source": [
    "pd.merge(izq, der, on='key')    "
   ]
  },
  {
   "cell_type": "code",
   "execution_count": null,
   "metadata": {
    "colab": {
     "base_uri": "https://localhost:8080/",
     "height": 204
    },
    "colab_type": "code",
    "executionInfo": {
     "elapsed": 469,
     "status": "ok",
     "timestamp": 1582982226831,
     "user": {
      "displayName": "Beimar Rodriguez",
      "photoUrl": "https://lh3.googleusercontent.com/a-/AOh14GjuX40-0URd_w6GeGbIxaGemRJIwK0vNXOoFOBeCg=s64",
      "userId": "17662544329171634219"
     },
     "user_tz": 300
    },
    "id": "FxzFoqyRFmIv",
    "outputId": "e2d80d42-4538-48e9-ae83-36209e62eafb"
   },
   "outputs": [],
   "source": [
    "izq"
   ]
  },
  {
   "cell_type": "markdown",
   "metadata": {
    "colab_type": "text",
    "id": "MpQYuahdvU0m"
   },
   "source": [
    "Otro ejemplo más completo:"
   ]
  },
  {
   "cell_type": "code",
   "execution_count": null,
   "metadata": {
    "colab": {},
    "colab_type": "code",
    "id": "VB-2KfMWvU0n"
   },
   "outputs": [],
   "source": [
    "izq = pd.DataFrame({'key1': ['K0', 'K0', 'K1', 'K2'],\n",
    "                     'key2': ['K0', 'K1', 'K0', 'K1'],\n",
    "                        'A': ['A0', 'A1', 'A2', 'A3'],\n",
    "                        'B': ['B0', 'B1', 'B2', 'B3']})   \n",
    "der = pd.DataFrame({'key1': ['K0', 'K1', 'K1', 'K2'],\n",
    "                               'key2': ['K0', 'K0', 'K0', 'K0'],\n",
    "                                  'C': ['C0', 'C1', 'C2', 'C3'],\n",
    "                                  'D': ['D0', 'D1', 'D2', 'D3']})"
   ]
  },
  {
   "cell_type": "code",
   "execution_count": null,
   "metadata": {
    "colab": {
     "base_uri": "https://localhost:8080/",
     "height": 173
    },
    "colab_type": "code",
    "executionInfo": {
     "elapsed": 514,
     "status": "ok",
     "timestamp": 1582982316741,
     "user": {
      "displayName": "Beimar Rodriguez",
      "photoUrl": "https://lh3.googleusercontent.com/a-/AOh14GjuX40-0URd_w6GeGbIxaGemRJIwK0vNXOoFOBeCg=s64",
      "userId": "17662544329171634219"
     },
     "user_tz": 300
    },
    "id": "Z7cEAJ4TxaL7",
    "outputId": "9fab8485-889f-43d8-948c-0fe3701653fe"
   },
   "outputs": [],
   "source": [
    "izq"
   ]
  },
  {
   "cell_type": "code",
   "execution_count": null,
   "metadata": {
    "colab": {
     "base_uri": "https://localhost:8080/",
     "height": 173
    },
    "colab_type": "code",
    "executionInfo": {
     "elapsed": 447,
     "status": "ok",
     "timestamp": 1582982351564,
     "user": {
      "displayName": "Beimar Rodriguez",
      "photoUrl": "https://lh3.googleusercontent.com/a-/AOh14GjuX40-0URd_w6GeGbIxaGemRJIwK0vNXOoFOBeCg=s64",
      "userId": "17662544329171634219"
     },
     "user_tz": 300
    },
    "id": "wQgn1pjexaL9",
    "outputId": "53119034-2935-416f-ab37-ee4d4ccda43f"
   },
   "outputs": [],
   "source": [
    "der"
   ]
  },
  {
   "cell_type": "code",
   "execution_count": null,
   "metadata": {
    "colab": {
     "base_uri": "https://localhost:8080/",
     "height": 142
    },
    "colab_type": "code",
    "executionInfo": {
     "elapsed": 445,
     "status": "ok",
     "timestamp": 1582982619418,
     "user": {
      "displayName": "Beimar Rodriguez",
      "photoUrl": "https://lh3.googleusercontent.com/a-/AOh14GjuX40-0URd_w6GeGbIxaGemRJIwK0vNXOoFOBeCg=s64",
      "userId": "17662544329171634219"
     },
     "user_tz": 300
    },
    "id": "C3ePGv-TvU0p",
    "outputId": "7d737bb0-f96f-475b-f4a4-9b55aa080ed9"
   },
   "outputs": [],
   "source": [
    "pd.merge(izq, der, on=['key1', 'key2'])"
   ]
  },
  {
   "cell_type": "markdown",
   "metadata": {
    "colab_type": "text",
    "id": "ZKCS3YjyxaMC"
   },
   "source": [
    "#### Argumento 'how'\n",
    "\n",
    "El método merge recibe el argumento 'how'. Éste especifica cómo determinar qué claves se incluirán en la tabla resultante. Si una combinación de dichas llaves no aparece en las tablas izquierda o derecha, los valores en la tabla fusionada serán NaN. \n",
    "\n",
    "Aquí hay un resumen de las opciones de 'how' y sus nombres equivalentes en SQL:\n",
    "\n",
    "\tPANDAS\tSQL\t\t\t\t\tDESCRIPCIÓN\n",
    "\tinner\tINNER JOIN\t\t\tUsa la intersection de las llaves de ambos dataframes * Por defecto\n",
    "    left\tLEFT OUTER JOIN\t\tSólo usa las llaves del dataframe izquierdo\n",
    "\tright\tRIGHT OUTER JOIN\tSólo usa las llaves del dataframe derecho \n",
    "\touter\tFULL OUTER JOIN\t\tUsa la unión de las llaves de ambos dataframes\n",
    "\n",
    "![wget](https://drive.google.com/uc?export=view&id=1wmJo-FJnofniKEkF-3RRR-Mk9IVuc-Nx)"
   ]
  },
  {
   "cell_type": "code",
   "execution_count": null,
   "metadata": {
    "colab": {
     "base_uri": "https://localhost:8080/",
     "height": 235
    },
    "colab_type": "code",
    "executionInfo": {
     "elapsed": 459,
     "status": "ok",
     "timestamp": 1582982738462,
     "user": {
      "displayName": "Beimar Rodriguez",
      "photoUrl": "https://lh3.googleusercontent.com/a-/AOh14GjuX40-0URd_w6GeGbIxaGemRJIwK0vNXOoFOBeCg=s64",
      "userId": "17662544329171634219"
     },
     "user_tz": 300
    },
    "id": "o9gSQxi2vU0r",
    "outputId": "1064c54d-2cf4-4c4f-8256-c7591351cb01"
   },
   "outputs": [],
   "source": [
    "pd.merge(izq, der, how='outer', on=['key1', 'key2'])"
   ]
  },
  {
   "cell_type": "code",
   "execution_count": null,
   "metadata": {
    "colab": {
     "base_uri": "https://localhost:8080/",
     "height": 204
    },
    "colab_type": "code",
    "executionInfo": {
     "elapsed": 447,
     "status": "ok",
     "timestamp": 1582982767363,
     "user": {
      "displayName": "Beimar Rodriguez",
      "photoUrl": "https://lh3.googleusercontent.com/a-/AOh14GjuX40-0URd_w6GeGbIxaGemRJIwK0vNXOoFOBeCg=s64",
      "userId": "17662544329171634219"
     },
     "user_tz": 300
    },
    "id": "SS7OV1lFvU0u",
    "outputId": "2f408756-ff4a-4c0f-a187-613af7b7ac9a"
   },
   "outputs": [],
   "source": [
    "pd.merge(izq, der, how='left', on=['key1', 'key2'])"
   ]
  },
  {
   "cell_type": "code",
   "execution_count": null,
   "metadata": {
    "colab": {
     "base_uri": "https://localhost:8080/",
     "height": 173
    },
    "colab_type": "code",
    "executionInfo": {
     "elapsed": 441,
     "status": "ok",
     "timestamp": 1582982782389,
     "user": {
      "displayName": "Beimar Rodriguez",
      "photoUrl": "https://lh3.googleusercontent.com/a-/AOh14GjuX40-0URd_w6GeGbIxaGemRJIwK0vNXOoFOBeCg=s64",
      "userId": "17662544329171634219"
     },
     "user_tz": 300
    },
    "id": "mhyus5NDvU0w",
    "outputId": "3263848e-a7d6-42bf-86ef-b61dfd5b9724"
   },
   "outputs": [],
   "source": [
    "pd.merge(izq, der, how='right', on=['key1', 'key2'])"
   ]
  },
  {
   "cell_type": "code",
   "execution_count": null,
   "metadata": {
    "colab": {
     "base_uri": "https://localhost:8080/",
     "height": 142
    },
    "colab_type": "code",
    "executionInfo": {
     "elapsed": 442,
     "status": "ok",
     "timestamp": 1582982817039,
     "user": {
      "displayName": "Beimar Rodriguez",
      "photoUrl": "https://lh3.googleusercontent.com/a-/AOh14GjuX40-0URd_w6GeGbIxaGemRJIwK0vNXOoFOBeCg=s64",
      "userId": "17662544329171634219"
     },
     "user_tz": 300
    },
    "id": "4j5Bb7q2rLSM",
    "outputId": "091528b6-6e92-48a1-9b38-e08a0076c79b"
   },
   "outputs": [],
   "source": [
    "pd.merge(izq, der, how='inner', on=['key1', 'key2'])"
   ]
  },
  {
   "cell_type": "markdown",
   "metadata": {
    "colab_type": "text",
    "id": "kEUJGvX-vU0y"
   },
   "source": [
    "### Unión (join)\n",
    "\n",
    "El join es un método para combinar las columnas de dos DataFrames indexados de forma diferente en un solo DataFrame de resultados.\n",
    "\n",
    "En vez de columnas como en el merge, en el join se utilizan los índices de los DataFrames para hacer la combinación.\n"
   ]
  },
  {
   "cell_type": "code",
   "execution_count": null,
   "metadata": {
    "colab": {},
    "colab_type": "code",
    "id": "GrLi26j8vU0z"
   },
   "outputs": [],
   "source": [
    "izq = pd.DataFrame({'A': ['A0', 'A1', 'A2'],\n",
    "                     'B': ['B0', 'B1', 'B2']},\n",
    "                      index=['K0', 'K1', 'K2']) \n",
    "\n",
    "der = pd.DataFrame({'C': ['C0', 'C2', 'C3'],\n",
    "                    'D': ['D0', 'D2', 'D3']},\n",
    "                      index=['K0', 'K2', 'K3'])"
   ]
  },
  {
   "cell_type": "code",
   "execution_count": null,
   "metadata": {
    "colab": {
     "base_uri": "https://localhost:8080/",
     "height": 142
    },
    "colab_type": "code",
    "executionInfo": {
     "elapsed": 459,
     "status": "ok",
     "timestamp": 1582982835943,
     "user": {
      "displayName": "Beimar Rodriguez",
      "photoUrl": "https://lh3.googleusercontent.com/a-/AOh14GjuX40-0URd_w6GeGbIxaGemRJIwK0vNXOoFOBeCg=s64",
      "userId": "17662544329171634219"
     },
     "user_tz": 300
    },
    "id": "WhFf9EfoxaMI",
    "outputId": "84e6dca4-e2fa-4588-e391-963ebfbe45c2"
   },
   "outputs": [],
   "source": [
    "izq"
   ]
  },
  {
   "cell_type": "code",
   "execution_count": null,
   "metadata": {
    "colab": {
     "base_uri": "https://localhost:8080/",
     "height": 142
    },
    "colab_type": "code",
    "executionInfo": {
     "elapsed": 472,
     "status": "ok",
     "timestamp": 1567864101547,
     "user": {
      "displayName": "Jorge Eliecer Camargo Mendoza",
      "photoUrl": "https://lh3.googleusercontent.com/a-/AAuE7mABqwDZWVpHOYngU9ZIe8V9pjUGlU8t-imO83-blA=s64",
      "userId": "02835507447501590248"
     },
     "user_tz": 300
    },
    "id": "-dJCsX3yxaMN",
    "outputId": "759b2e1a-b89b-446e-cc12-9e07eff88d27"
   },
   "outputs": [],
   "source": [
    "der"
   ]
  },
  {
   "cell_type": "code",
   "execution_count": null,
   "metadata": {
    "colab": {
     "base_uri": "https://localhost:8080/",
     "height": 142
    },
    "colab_type": "code",
    "executionInfo": {
     "elapsed": 437,
     "status": "ok",
     "timestamp": 1582982884304,
     "user": {
      "displayName": "Beimar Rodriguez",
      "photoUrl": "https://lh3.googleusercontent.com/a-/AOh14GjuX40-0URd_w6GeGbIxaGemRJIwK0vNXOoFOBeCg=s64",
      "userId": "17662544329171634219"
     },
     "user_tz": 300
    },
    "id": "VJsGknqmvU01",
    "outputId": "5dd152f6-18d2-4c6f-df7f-d8f5382a9513"
   },
   "outputs": [],
   "source": [
    "izq.join(der)"
   ]
  },
  {
   "cell_type": "code",
   "execution_count": null,
   "metadata": {
    "colab": {
     "base_uri": "https://localhost:8080/",
     "height": 142
    },
    "colab_type": "code",
    "executionInfo": {
     "elapsed": 452,
     "status": "ok",
     "timestamp": 1582982958272,
     "user": {
      "displayName": "Beimar Rodriguez",
      "photoUrl": "https://lh3.googleusercontent.com/a-/AOh14GjuX40-0URd_w6GeGbIxaGemRJIwK0vNXOoFOBeCg=s64",
      "userId": "17662544329171634219"
     },
     "user_tz": 300
    },
    "id": "XdkCCHMzro7n",
    "outputId": "1ec39128-5a02-45db-b50e-d563c8f0fe67"
   },
   "outputs": [],
   "source": [
    "der.join(izq)"
   ]
  },
  {
   "cell_type": "code",
   "execution_count": null,
   "metadata": {
    "colab": {
     "base_uri": "https://localhost:8080/",
     "height": 173
    },
    "colab_type": "code",
    "executionInfo": {
     "elapsed": 506,
     "status": "ok",
     "timestamp": 1582982960807,
     "user": {
      "displayName": "Beimar Rodriguez",
      "photoUrl": "https://lh3.googleusercontent.com/a-/AOh14GjuX40-0URd_w6GeGbIxaGemRJIwK0vNXOoFOBeCg=s64",
      "userId": "17662544329171634219"
     },
     "user_tz": 300
    },
    "id": "1v3buOXyvU03",
    "outputId": "bd043331-7cab-45f6-c14e-e71305e34459"
   },
   "outputs": [],
   "source": [
    "izq.join(der, how='outer')"
   ]
  },
  {
   "cell_type": "code",
   "execution_count": null,
   "metadata": {
    "colab": {
     "base_uri": "https://localhost:8080/",
     "height": 111
    },
    "colab_type": "code",
    "executionInfo": {
     "elapsed": 446,
     "status": "ok",
     "timestamp": 1582982970881,
     "user": {
      "displayName": "Beimar Rodriguez",
      "photoUrl": "https://lh3.googleusercontent.com/a-/AOh14GjuX40-0URd_w6GeGbIxaGemRJIwK0vNXOoFOBeCg=s64",
      "userId": "17662544329171634219"
     },
     "user_tz": 300
    },
    "id": "e6bqsX60xaMS",
    "outputId": "8764c225-e62e-4551-e3b1-c7262b908d0e"
   },
   "outputs": [],
   "source": [
    "izq.join(der, how='inner')"
   ]
  },
  {
   "cell_type": "markdown",
   "metadata": {
    "colab_type": "text",
    "id": "mVtc1fPATt8X"
   },
   "source": [
    "## Tablas Pivote"
   ]
  },
  {
   "cell_type": "code",
   "execution_count": null,
   "metadata": {
    "colab": {},
    "colab_type": "code",
    "id": "OFn5JEs1xa5b"
   },
   "outputs": [],
   "source": [
    "data = {'A':['foo','foo','foo','bar','bar','bar'],\n",
    "     'B':['uno','uno','dos','dos','uno','uno'],\n",
    "       'C':['categoria 1','categoria 1','categoria 1','categoria 2','categoria 1','categoria 2'],\n",
    "       'D':[5,3,2,5,4,1]}\n",
    "\n",
    "df = pd.DataFrame(data)"
   ]
  },
  {
   "cell_type": "code",
   "execution_count": null,
   "metadata": {
    "colab": {
     "base_uri": "https://localhost:8080/",
     "height": 235
    },
    "colab_type": "code",
    "executionInfo": {
     "elapsed": 443,
     "status": "ok",
     "timestamp": 1582983815957,
     "user": {
      "displayName": "Beimar Rodriguez",
      "photoUrl": "https://lh3.googleusercontent.com/a-/AOh14GjuX40-0URd_w6GeGbIxaGemRJIwK0vNXOoFOBeCg=s64",
      "userId": "17662544329171634219"
     },
     "user_tz": 300
    },
    "id": "I61o9iKSxa5b",
    "outputId": "2038a2ca-0459-4552-dc03-884093786568"
   },
   "outputs": [],
   "source": [
    "df"
   ]
  },
  {
   "cell_type": "code",
   "execution_count": null,
   "metadata": {
    "colab": {
     "base_uri": "https://localhost:8080/",
     "height": 204
    },
    "colab_type": "code",
    "executionInfo": {
     "elapsed": 462,
     "status": "ok",
     "timestamp": 1582983613830,
     "user": {
      "displayName": "Beimar Rodriguez",
      "photoUrl": "https://lh3.googleusercontent.com/a-/AOh14GjuX40-0URd_w6GeGbIxaGemRJIwK0vNXOoFOBeCg=s64",
      "userId": "17662544329171634219"
     },
     "user_tz": 300
    },
    "id": "E8J0QkSDxa5d",
    "outputId": "efb6f0a7-df2b-4f16-fcc8-77caa8b57758"
   },
   "outputs": [],
   "source": [
    "df.pivot_table(values='D',index=['A', 'B'],columns=['C'])"
   ]
  },
  {
   "cell_type": "code",
   "execution_count": null,
   "metadata": {
    "colab": {
     "base_uri": "https://localhost:8080/",
     "height": 204
    },
    "colab_type": "code",
    "executionInfo": {
     "elapsed": 409,
     "status": "ok",
     "timestamp": 1582983835980,
     "user": {
      "displayName": "Beimar Rodriguez",
      "photoUrl": "https://lh3.googleusercontent.com/a-/AOh14GjuX40-0URd_w6GeGbIxaGemRJIwK0vNXOoFOBeCg=s64",
      "userId": "17662544329171634219"
     },
     "user_tz": 300
    },
    "id": "FUxfns_XLlcA",
    "outputId": "8917c5c1-73b4-4229-8f0b-132851bae4ba"
   },
   "outputs": [],
   "source": [
    "df.pivot_table(values='D',index=['B', 'A'],columns=['C'])"
   ]
  },
  {
   "cell_type": "code",
   "execution_count": null,
   "metadata": {
    "colab": {},
    "colab_type": "code",
    "id": "5VKizOQZuDM_"
   },
   "outputs": [],
   "source": [
    "df.pivot_table?"
   ]
  },
  {
   "cell_type": "markdown",
   "metadata": {
    "colab_type": "text",
    "id": "x6nrST2yxa5d"
   },
   "source": [
    "Otro ejemplo:"
   ]
  },
  {
   "cell_type": "code",
   "execution_count": null,
   "metadata": {
    "colab": {
     "base_uri": "https://localhost:8080/",
     "height": 328
    },
    "colab_type": "code",
    "executionInfo": {
     "elapsed": 521,
     "status": "ok",
     "timestamp": 1582984007378,
     "user": {
      "displayName": "Beimar Rodriguez",
      "photoUrl": "https://lh3.googleusercontent.com/a-/AOh14GjuX40-0URd_w6GeGbIxaGemRJIwK0vNXOoFOBeCg=s64",
      "userId": "17662544329171634219"
     },
     "user_tz": 300
    },
    "id": "uxAAZntZxa5e",
    "outputId": "f2a9cca2-0d2e-4c85-ee3b-c71c54e9aefc"
   },
   "outputs": [],
   "source": [
    "df = pd.DataFrame({\"A\": [\"foo\", \"foo\", \"foo\", \"foo\", \"foo\",\n",
    "                         \"bar\", \"bar\", \"bar\", \"bar\"],\n",
    "                    \"B\": [\"one\", \"one\", \"one\", \"two\", \"two\",\n",
    "                          \"one\", \"one\", \"two\", \"two\"],\n",
    "                    \"C\": [\"small\", \"large\", \"large\", \"small\",\n",
    "                          \"small\", \"large\", \"small\", \"small\",\n",
    "                          \"large\"],\n",
    "                    \"D\": [1, 2, 2, 3, 3, 4, 5, 6, 7]})\n",
    "df"
   ]
  },
  {
   "cell_type": "code",
   "execution_count": null,
   "metadata": {
    "colab": {
     "base_uri": "https://localhost:8080/",
     "height": 204
    },
    "colab_type": "code",
    "executionInfo": {
     "elapsed": 603,
     "status": "ok",
     "timestamp": 1582984038216,
     "user": {
      "displayName": "Beimar Rodriguez",
      "photoUrl": "https://lh3.googleusercontent.com/a-/AOh14GjuX40-0URd_w6GeGbIxaGemRJIwK0vNXOoFOBeCg=s64",
      "userId": "17662544329171634219"
     },
     "user_tz": 300
    },
    "id": "pmPT2Bd6xa5f",
    "outputId": "e78716ba-2c30-4a70-8ef2-ed08c4fe12e9"
   },
   "outputs": [],
   "source": [
    "table = df.pivot_table(values='D', index=['A', 'B'],\n",
    "                     columns=['C'], aggfunc=np.sum)\n",
    "table"
   ]
  },
  {
   "cell_type": "code",
   "execution_count": null,
   "metadata": {
    "colab": {},
    "colab_type": "code",
    "id": "0SXjxy0lxa5g"
   },
   "outputs": [],
   "source": [
    "otro =df.stack()"
   ]
  },
  {
   "cell_type": "code",
   "execution_count": null,
   "metadata": {
    "colab": {
     "base_uri": "https://localhost:8080/",
     "height": 646
    },
    "colab_type": "code",
    "executionInfo": {
     "elapsed": 437,
     "status": "ok",
     "timestamp": 1582984117257,
     "user": {
      "displayName": "Beimar Rodriguez",
      "photoUrl": "https://lh3.googleusercontent.com/a-/AOh14GjuX40-0URd_w6GeGbIxaGemRJIwK0vNXOoFOBeCg=s64",
      "userId": "17662544329171634219"
     },
     "user_tz": 300
    },
    "id": "fqt1WrZKxa5g",
    "outputId": "ea408bf1-7846-46d1-e3e5-a09cb4138e9e"
   },
   "outputs": [],
   "source": [
    "otro"
   ]
  },
  {
   "cell_type": "markdown",
   "metadata": {},
   "source": [
    "## Referencias"
   ]
  },
  {
   "cell_type": "markdown",
   "metadata": {},
   "source": [
    "* A visual guide to pandas: https://www.youtube.com/watch?v=9d5-Ti6onew\n",
    "* Pandas cheatsheet (oficial): https://github.com/pandas-dev/pandas/blob/master/doc/cheatsheet/Pandas_Cheat_Sheet.pdf\n",
    "* Pandas Datacamp cheatsheet: https://www.datacamp.com/community/blog/python-pandas-cheat-sheet#gs.eyIEEEg\n",
    "* Consejos de rendimiento: http://slides.com/jeffreback/pfq-performance-pandas#/\n"
   ]
  }
 ],
 "metadata": {
  "kernelspec": {
   "display_name": "Python 3",
   "language": "python",
   "name": "python3"
  },
  "language_info": {
   "codemirror_mode": {
    "name": "ipython",
    "version": 3
   },
   "file_extension": ".py",
   "mimetype": "text/x-python",
   "name": "python",
   "nbconvert_exporter": "python",
   "pygments_lexer": "ipython3",
   "version": "3.7.4"
  }
 },
 "nbformat": 4,
 "nbformat_minor": 4
}
