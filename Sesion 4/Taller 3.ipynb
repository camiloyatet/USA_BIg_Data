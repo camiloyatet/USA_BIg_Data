{
 "cells": [
  {
   "cell_type": "markdown",
   "metadata": {},
   "source": [
    "<img src=\"https://www.usergioarboleda.edu.co/wp-content/uploads/ultimatum/imagens/logo-mobile-UniversidadSergioArboleda.png\" alt=\"USA\" width=700>"
   ]
  },
  {
   "cell_type": "markdown",
   "metadata": {},
   "source": [
    "Para el conjunto de datos cereal, el cual tiene las siguientes variables:\n",
    "\n",
    "* Name: Nombre\n",
    "* mfr: Fabricante\n",
    "    * A = American Home Food Products;\n",
    "    * G = General Mills\n",
    "    * K = Kelloggs\n",
    "    * N = Nabisco\n",
    "    * P = Post\n",
    "    * Q = Quaker Oats\n",
    "    * R = Ralston Purina\n",
    "* Tipo:\n",
    "    * cold\n",
    "    * hot\n",
    "* calories: Calorias por ración\n",
    "* protein: gramos de proteina\n",
    "* fat: Gramos de Grasa\n",
    "* sodium: Miligramos de Sodio\n",
    "* fiber: Gramos de fibra dietaria\n",
    "* carbo: Gramos de Carbohidratos\n",
    "* sugars: Gramos de azucar\n",
    "* potass: Miligramos de Potasio\n",
    "* vitamins: Vitaminas y minerales - 0, 25, o 100, indicando el procentaje recomendado\n",
    "* shelf: Posición en la góndola de exhibición\n",
    "* weight: Peso en onzas\n",
    "* cups: Tasas por ración\n",
    "* rating: Calificación del consumidor"
   ]
  },
  {
   "cell_type": "markdown",
   "metadata": {},
   "source": [
    "# Ejercicio"
   ]
  },
  {
   "cell_type": "markdown",
   "metadata": {},
   "source": [
    "1. Determinar el cereal con mayor cantidad de azúcar.\n",
    "2. Determinar el cereal con mayor cantidad de grasa\n",
    "2. Determinar el cereal de mejor calificación por cada fabricante\n",
    "3. Determinar el promedio de carbohidratos por tipo de cereal\n",
    "4. Existe relación entre la posición en góndola y la calificación del usuario para los cereales?\n",
    "5. Generar diagramas que describan las características de los cereales"
   ]
  }
 ],
 "metadata": {
  "kernelspec": {
   "display_name": "Python 3",
   "language": "python",
   "name": "python3"
  },
  "language_info": {
   "codemirror_mode": {
    "name": "ipython",
    "version": 3
   },
   "file_extension": ".py",
   "mimetype": "text/x-python",
   "name": "python",
   "nbconvert_exporter": "python",
   "pygments_lexer": "ipython3",
   "version": "3.7.4"
  }
 },
 "nbformat": 4,
 "nbformat_minor": 4
}
