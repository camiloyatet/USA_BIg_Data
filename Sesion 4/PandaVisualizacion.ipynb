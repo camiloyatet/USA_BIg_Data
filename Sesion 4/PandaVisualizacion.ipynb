{
 "cells": [
  {
   "cell_type": "markdown",
   "metadata": {
    "colab_type": "text",
    "id": "UDoyfdiejFGy"
   },
   "source": [
    "# Introducción"
   ]
  },
  {
   "cell_type": "markdown",
   "metadata": {
    "colab_type": "text",
    "id": "pzperQoWjIJ7"
   },
   "source": [
    "Visualizar los datos es fundamental para entender las carácterísticas y relaciones que existe entre las variables de nuestro problema. \n",
    "\n",
    "Con la visualización podemos entender a priori el problema con el que nos estamos enfrentando. Podemos hacer hipótesis sobre las variables que nos pueden ser útiles y sobre cuales no tener en cuenta ya que no presentan un patrón.\n",
    "\n",
    "\n",
    "En este Notebook aprenderemos acerca de las funcionalidades de Visualización de datos en Pandas. \n",
    "\n",
    "**Aunque estas carácterísticas están construídas sobre otra librería que se llama Matplotlib, se integran en Pandas para facilitar su uso.**\n"
   ]
  },
  {
   "cell_type": "markdown",
   "metadata": {
    "colab_type": "text",
    "id": "MrzvLJUAjMwd"
   },
   "source": [
    "Para empezar carguemos un conjunto de datos del tipo de flor 'Iris'.\n",
    "\n",
    "\n",
    "El conjunto iris, cuenta con 150 ejemplos de 3 tipos de flores 'Iris', los cuales son  \"setosa\", \"virginica\" y \"versicolor\".\n",
    "\n",
    "\n",
    "\n",
    "\n",
    "![](https://drive.google.com/uc?export=view&id=1s2QWKbRZWkiWmd2DskCNsrcY_PnsYHOr)\n",
    "\n",
    "\n"
   ]
  },
  {
   "cell_type": "markdown",
   "metadata": {
    "colab_type": "text",
    "id": "hxv5w1revGFB"
   },
   "source": [
    "\n",
    "Los atributos son:\n",
    "* Longitud del sépalo en cm (Sepal.Length)\n",
    "* Ancho del sépalo en cm (Sepal.Width)\n",
    "* Longitud del pépalo en cm (Petal.Length)\n",
    "* Ancho del pépalo en cm (Pepal.Width)\n",
    "* Clase (Species)\n",
    " * 0 = Iris-Setosa\n",
    " * 1 = Iris-Versicolour\n",
    " * 2 = Iris-Virginica\n",
    "\n",
    "![](https://drive.google.com/uc?export=view&id=195wM4wDyYYB5RWLWytbsop2OoZwLXsTl)"
   ]
  },
  {
   "cell_type": "markdown",
   "metadata": {
    "colab_type": "text",
    "id": "1SVhGp_RvJyg"
   },
   "source": [
    "Carguemos el conjunto de datos"
   ]
  },
  {
   "cell_type": "code",
   "execution_count": null,
   "metadata": {
    "colab": {
     "base_uri": "https://localhost:8080/",
     "height": 142
    },
    "colab_type": "code",
    "executionInfo": {
     "elapsed": 5777,
     "status": "ok",
     "timestamp": 1582987207893,
     "user": {
      "displayName": "Beimar Rodriguez",
      "photoUrl": "https://lh3.googleusercontent.com/a-/AOh14GjuX40-0URd_w6GeGbIxaGemRJIwK0vNXOoFOBeCg=s64",
      "userId": "17662544329171634219"
     },
     "user_tz": 300
    },
    "id": "gMuufQK-rBne",
    "outputId": "c8503e05-1420-41b1-9641-7eec15274428"
   },
   "outputs": [],
   "source": [
    "import pandas as pd\n",
    "\n",
    "url=\"https://drive.google.com/uc?export=download&id=1Jf9XUQPJbyE7FYOwV32PQMLdO2k5-DRB\"\n",
    "df_iris = pd.read_csv(url)\n",
    "# imprimir los tres primeros elementos del conjunto\n",
    "df_iris.head(3)"
   ]
  },
  {
   "cell_type": "markdown",
   "metadata": {
    "colab_type": "text",
    "id": "7DOPEJ-0wfpW"
   },
   "source": [
    "Veamos una descripción del conjunto de datos."
   ]
  },
  {
   "cell_type": "code",
   "execution_count": null,
   "metadata": {
    "colab": {
     "base_uri": "https://localhost:8080/",
     "height": 34
    },
    "colab_type": "code",
    "executionInfo": {
     "elapsed": 396,
     "status": "ok",
     "timestamp": 1582987238085,
     "user": {
      "displayName": "Beimar Rodriguez",
      "photoUrl": "https://lh3.googleusercontent.com/a-/AOh14GjuX40-0URd_w6GeGbIxaGemRJIwK0vNXOoFOBeCg=s64",
      "userId": "17662544329171634219"
     },
     "user_tz": 300
    },
    "id": "oeDckfH-NrZ-",
    "outputId": "7272c123-8ab3-4310-d92b-5066ebdbaa3b"
   },
   "outputs": [],
   "source": [
    "df_iris.columns"
   ]
  },
  {
   "cell_type": "code",
   "execution_count": null,
   "metadata": {
    "colab": {
     "base_uri": "https://localhost:8080/",
     "height": 314
    },
    "colab_type": "code",
    "executionInfo": {
     "elapsed": 353,
     "status": "ok",
     "timestamp": 1582987461087,
     "user": {
      "displayName": "Beimar Rodriguez",
      "photoUrl": "https://lh3.googleusercontent.com/a-/AOh14GjuX40-0URd_w6GeGbIxaGemRJIwK0vNXOoFOBeCg=s64",
      "userId": "17662544329171634219"
     },
     "user_tz": 300
    },
    "id": "WCbZT6YS533o",
    "outputId": "77f74548-3fe9-4e4b-a278-61aa721ee982"
   },
   "outputs": [],
   "source": [
    "print('Descripción de todo el dataframe')\n",
    "df_iris.describe()"
   ]
  },
  {
   "cell_type": "markdown",
   "metadata": {
    "colab_type": "text",
    "id": "tIjsDsqIZp7I"
   },
   "source": [
    "sepal length\n",
    "sepal width\n",
    "petal length\n",
    "petal width\n",
    "\n",
    "longitud del sépalo\n",
    "ancho sepal\n",
    "longitud del pétalo\n",
    "ancho de pétalo"
   ]
  },
  {
   "cell_type": "code",
   "execution_count": null,
   "metadata": {
    "colab": {
     "base_uri": "https://localhost:8080/",
     "height": 119
    },
    "colab_type": "code",
    "executionInfo": {
     "elapsed": 361,
     "status": "ok",
     "timestamp": 1582987467001,
     "user": {
      "displayName": "Beimar Rodriguez",
      "photoUrl": "https://lh3.googleusercontent.com/a-/AOh14GjuX40-0URd_w6GeGbIxaGemRJIwK0vNXOoFOBeCg=s64",
      "userId": "17662544329171634219"
     },
     "user_tz": 300
    },
    "id": "1-qkRljjvN-6",
    "outputId": "cec5c380-0714-464e-f3bd-07ceea544258"
   },
   "outputs": [],
   "source": [
    "print('Descripción de la columna type')\n",
    "print(df_iris['label'].describe())"
   ]
  },
  {
   "cell_type": "markdown",
   "metadata": {
    "colab_type": "text",
    "id": "2x4eo7scrAS9"
   },
   "source": [
    "Ahora para terminar dibujemos el comportamiento de la variable 'sepal_width'.\n",
    "\n",
    "Con el resultado del \"describe()\" anterior vimos que para el largo del pétalo teníamos una valor medio de 3.6. Ahora gráficamente lo podemos ver con pandas y matplotlib."
   ]
  },
  {
   "cell_type": "markdown",
   "metadata": {
    "colab_type": "text",
    "id": "NLoWFsz8iJHC"
   },
   "source": [
    "Importemos los paquetes"
   ]
  },
  {
   "cell_type": "code",
   "execution_count": null,
   "metadata": {
    "colab": {},
    "colab_type": "code",
    "id": "OoVj5amaiJHF"
   },
   "outputs": [],
   "source": [
    "import numpy as np\n",
    "import pandas as pd\n",
    "\n",
    "# Para que aparezcan las visualizaciones dentro del Notebook\n",
    "%matplotlib inline"
   ]
  },
  {
   "cell_type": "markdown",
   "metadata": {
    "colab_type": "text",
    "id": "72w6Rpz0iJHg"
   },
   "source": [
    "# 1. Tipos de gráficos (plots)\n",
    "\n",
    "Para usar los tipos de graficas disponibles por pandas se puede llamar directamente la el tipo de grafica despues de la invocar la función plot sobre el dataframe o se invoca la función plot con el argumento 'kind' pasandole como argumento el tipo de gráfica.\n",
    "\n",
    "\n",
    "Por ejemplo en la gráfica anterior usamos: \n",
    "\n",
    "df_iris.sepal_width.plot.hist()\n",
    "\n",
    "Pero hubieramos podido usar esta sentencia:\n",
    "\n",
    "df_iris.sepal_width.plot(kind='hist')"
   ]
  },
  {
   "cell_type": "code",
   "execution_count": null,
   "metadata": {
    "colab": {
     "base_uri": "https://localhost:8080/",
     "height": 282
    },
    "colab_type": "code",
    "executionInfo": {
     "elapsed": 537,
     "status": "ok",
     "timestamp": 1582987478248,
     "user": {
      "displayName": "Beimar Rodriguez",
      "photoUrl": "https://lh3.googleusercontent.com/a-/AOh14GjuX40-0URd_w6GeGbIxaGemRJIwK0vNXOoFOBeCg=s64",
      "userId": "17662544329171634219"
     },
     "user_tz": 300
    },
    "id": "k2NmH6E2E0di",
    "outputId": "b1204244-1dfb-4f72-a985-2e392cfc7c37"
   },
   "outputs": [],
   "source": [
    "df_iris['sepal_width'].plot(kind='hist')"
   ]
  },
  {
   "cell_type": "code",
   "execution_count": null,
   "metadata": {
    "colab": {
     "base_uri": "https://localhost:8080/",
     "height": 282
    },
    "colab_type": "code",
    "executionInfo": {
     "elapsed": 757,
     "status": "ok",
     "timestamp": 1582987705084,
     "user": {
      "displayName": "Beimar Rodriguez",
      "photoUrl": "https://lh3.googleusercontent.com/a-/AOh14GjuX40-0URd_w6GeGbIxaGemRJIwK0vNXOoFOBeCg=s64",
      "userId": "17662544329171634219"
     },
     "user_tz": 300
    },
    "id": "I6mZNn6ZCkFL",
    "outputId": "85ac00b1-c5a8-456c-c208-52b599899e14"
   },
   "outputs": [],
   "source": [
    "df_iris['sepal_width'].plot.hist()"
   ]
  },
  {
   "cell_type": "code",
   "execution_count": null,
   "metadata": {
    "colab": {
     "base_uri": "https://localhost:8080/",
     "height": 282
    },
    "colab_type": "code",
    "executionInfo": {
     "elapsed": 575,
     "status": "ok",
     "timestamp": 1582987728638,
     "user": {
      "displayName": "Beimar Rodriguez",
      "photoUrl": "https://lh3.googleusercontent.com/a-/AOh14GjuX40-0URd_w6GeGbIxaGemRJIwK0vNXOoFOBeCg=s64",
      "userId": "17662544329171634219"
     },
     "user_tz": 300
    },
    "id": "fvVSkUA9Cn66",
    "outputId": "af9a80d1-5bb0-4f33-8e92-983538d5f45a"
   },
   "outputs": [],
   "source": [
    "df_iris['sepal_width'].plot.hist(bins=5)"
   ]
  },
  {
   "cell_type": "code",
   "execution_count": null,
   "metadata": {
    "colab": {
     "base_uri": "https://localhost:8080/",
     "height": 282
    },
    "colab_type": "code",
    "executionInfo": {
     "elapsed": 905,
     "status": "ok",
     "timestamp": 1582987801175,
     "user": {
      "displayName": "Beimar Rodriguez",
      "photoUrl": "https://lh3.googleusercontent.com/a-/AOh14GjuX40-0URd_w6GeGbIxaGemRJIwK0vNXOoFOBeCg=s64",
      "userId": "17662544329171634219"
     },
     "user_tz": 300
    },
    "id": "AlbLo0p4DbV5",
    "outputId": "b47fccb3-c17f-4c7b-fa15-90bd4ab378b2"
   },
   "outputs": [],
   "source": [
    "df_iris.plot.hist(bins=25)"
   ]
  },
  {
   "cell_type": "markdown",
   "metadata": {
    "colab_type": "text",
    "id": "P0SEwDVdFGFf"
   },
   "source": [
    "Otros tipos son:\n",
    "\n",
    "* ‘bar’ o ‘barh’ para gráficas de barras\n",
    "* ‘box’ para las gráficas de cajas\n",
    "* ‘kde’ o ‘density’ para gráficas de densidad\n",
    "* ‘area’ para gráficas de áreas\n",
    "* ‘scatter’\n",
    "* ‘pie’ para tortas\n",
    "\n",
    "Para conocer todas las gráficas disponibles puede visitar el siguiente link.\n",
    "\n",
    "https://pandas.pydata.org/pandas-docs/stable/visualization.html#other-plots"
   ]
  },
  {
   "cell_type": "markdown",
   "metadata": {
    "colab_type": "text",
    "id": "37E7Eox_iJHg"
   },
   "source": [
    "\n",
    "## Area"
   ]
  },
  {
   "cell_type": "code",
   "execution_count": null,
   "metadata": {
    "colab": {
     "base_uri": "https://localhost:8080/",
     "height": 282
    },
    "colab_type": "code",
    "executionInfo": {
     "elapsed": 661,
     "status": "ok",
     "timestamp": 1582988150634,
     "user": {
      "displayName": "Beimar Rodriguez",
      "photoUrl": "https://lh3.googleusercontent.com/a-/AOh14GjuX40-0URd_w6GeGbIxaGemRJIwK0vNXOoFOBeCg=s64",
      "userId": "17662544329171634219"
     },
     "user_tz": 300
    },
    "id": "LqfHrIf2iJHq",
    "outputId": "bb85a7ad-6265-44bd-8023-e4e71dc792c1"
   },
   "outputs": [],
   "source": [
    "df_iris.plot(kind='area')"
   ]
  },
  {
   "cell_type": "markdown",
   "metadata": {
    "colab_type": "text",
    "id": "jV4tCiQTiJH3"
   },
   "source": [
    "___\n",
    "\n",
    "## Barplots"
   ]
  },
  {
   "cell_type": "code",
   "execution_count": null,
   "metadata": {
    "colab": {
     "base_uri": "https://localhost:8080/",
     "height": 279
    },
    "colab_type": "code",
    "executionInfo": {
     "elapsed": 618,
     "status": "ok",
     "timestamp": 1582988224338,
     "user": {
      "displayName": "Beimar Rodriguez",
      "photoUrl": "https://lh3.googleusercontent.com/a-/AOh14GjuX40-0URd_w6GeGbIxaGemRJIwK0vNXOoFOBeCg=s64",
      "userId": "17662544329171634219"
     },
     "user_tz": 300
    },
    "id": "xiq1DYCIiJH4",
    "outputId": "115710e7-56ca-410c-ef3e-d8736eaedc4b"
   },
   "outputs": [],
   "source": [
    "df_iris[0:10].plot(kind='bar')"
   ]
  },
  {
   "cell_type": "code",
   "execution_count": null,
   "metadata": {
    "colab": {
     "base_uri": "https://localhost:8080/",
     "height": 240
    },
    "colab_type": "code",
    "executionInfo": {
     "elapsed": 516,
     "status": "ok",
     "timestamp": 1582988260811,
     "user": {
      "displayName": "Beimar Rodriguez",
      "photoUrl": "https://lh3.googleusercontent.com/a-/AOh14GjuX40-0URd_w6GeGbIxaGemRJIwK0vNXOoFOBeCg=s64",
      "userId": "17662544329171634219"
     },
     "user_tz": 300
    },
    "id": "njvhKpLkiJH8",
    "outputId": "2ab8d041-00bb-4131-9ccc-8b81c41acd66"
   },
   "outputs": [],
   "source": [
    "df_iris[0:4].plot(kind='bar', figsize=(8,3), title='Título de la Figura', grid=False)"
   ]
  },
  {
   "cell_type": "code",
   "execution_count": null,
   "metadata": {
    "colab": {
     "base_uri": "https://localhost:8080/",
     "height": 279
    },
    "colab_type": "code",
    "executionInfo": {
     "elapsed": 610,
     "status": "ok",
     "timestamp": 1582988274810,
     "user": {
      "displayName": "Beimar Rodriguez",
      "photoUrl": "https://lh3.googleusercontent.com/a-/AOh14GjuX40-0URd_w6GeGbIxaGemRJIwK0vNXOoFOBeCg=s64",
      "userId": "17662544329171634219"
     },
     "user_tz": 300
    },
    "id": "02qH0B08iJIE",
    "outputId": "aedc7ba0-9f85-49e9-ed70-b04664b0624f"
   },
   "outputs": [],
   "source": [
    "df_iris[0:5].plot(kind='bar', stacked=True)"
   ]
  },
  {
   "cell_type": "code",
   "execution_count": null,
   "metadata": {
    "colab": {
     "base_uri": "https://localhost:8080/",
     "height": 282
    },
    "colab_type": "code",
    "executionInfo": {
     "elapsed": 581,
     "status": "ok",
     "timestamp": 1582988278613,
     "user": {
      "displayName": "Beimar Rodriguez",
      "photoUrl": "https://lh3.googleusercontent.com/a-/AOh14GjuX40-0URd_w6GeGbIxaGemRJIwK0vNXOoFOBeCg=s64",
      "userId": "17662544329171634219"
     },
     "user_tz": 300
    },
    "id": "Q2Ow1DdsiJIQ",
    "outputId": "5305b39f-ae7c-404a-91a0-712483dc1669"
   },
   "outputs": [],
   "source": [
    "df_iris[0:5].plot(kind='barh')"
   ]
  },
  {
   "cell_type": "markdown",
   "metadata": {
    "colab_type": "text",
    "id": "xbmcZtVDiJIc"
   },
   "source": [
    "___\n",
    "\n",
    "## Gráficos de línea (Line Plots)"
   ]
  },
  {
   "cell_type": "code",
   "execution_count": null,
   "metadata": {
    "colab": {
     "base_uri": "https://localhost:8080/",
     "height": 282
    },
    "colab_type": "code",
    "executionInfo": {
     "elapsed": 617,
     "status": "ok",
     "timestamp": 1582988287440,
     "user": {
      "displayName": "Beimar Rodriguez",
      "photoUrl": "https://lh3.googleusercontent.com/a-/AOh14GjuX40-0URd_w6GeGbIxaGemRJIwK0vNXOoFOBeCg=s64",
      "userId": "17662544329171634219"
     },
     "user_tz": 300
    },
    "id": "jebIWugRiJId",
    "outputId": "4ffbd1a1-6615-465f-8734-db0145f8df11"
   },
   "outputs": [],
   "source": [
    "df_iris[['sepal_width','sepal_length']].plot(kind='line')"
   ]
  },
  {
   "cell_type": "code",
   "execution_count": null,
   "metadata": {
    "colab": {
     "base_uri": "https://localhost:8080/",
     "height": 229
    },
    "colab_type": "code",
    "executionInfo": {
     "elapsed": 728,
     "status": "ok",
     "timestamp": 1582988298711,
     "user": {
      "displayName": "Beimar Rodriguez",
      "photoUrl": "https://lh3.googleusercontent.com/a-/AOh14GjuX40-0URd_w6GeGbIxaGemRJIwK0vNXOoFOBeCg=s64",
      "userId": "17662544329171634219"
     },
     "user_tz": 300
    },
    "id": "RKjxLYB0iJIh",
    "outputId": "6e620083-a321-473c-9d34-2225ece134ca"
   },
   "outputs": [],
   "source": [
    "df_iris.plot(y='sepal_length',kind='line', figsize=(10,3))"
   ]
  },
  {
   "cell_type": "markdown",
   "metadata": {
    "colab_type": "text",
    "id": "jrcan6M9iJIj"
   },
   "source": [
    "___\n",
    "\n",
    "## Gráficos de dispersión (Scatter Plots)"
   ]
  },
  {
   "cell_type": "code",
   "execution_count": null,
   "metadata": {
    "colab": {
     "base_uri": "https://localhost:8080/",
     "height": 299
    },
    "colab_type": "code",
    "executionInfo": {
     "elapsed": 547,
     "status": "ok",
     "timestamp": 1582988314178,
     "user": {
      "displayName": "Beimar Rodriguez",
      "photoUrl": "https://lh3.googleusercontent.com/a-/AOh14GjuX40-0URd_w6GeGbIxaGemRJIwK0vNXOoFOBeCg=s64",
      "userId": "17662544329171634219"
     },
     "user_tz": 300
    },
    "id": "TF71QQbniJIk",
    "outputId": "83dcf638-c332-4d67-b52a-d05b96f4f343"
   },
   "outputs": [],
   "source": [
    "# Se requieren 2 argumentos: 'x' y 'y'  \n",
    "df_iris.plot(kind='scatter', x='sepal_length',y='sepal_width')"
   ]
  },
  {
   "cell_type": "code",
   "execution_count": null,
   "metadata": {
    "colab": {
     "base_uri": "https://localhost:8080/",
     "height": 297
    },
    "colab_type": "code",
    "executionInfo": {
     "elapsed": 540,
     "status": "ok",
     "timestamp": 1582988441159,
     "user": {
      "displayName": "Beimar Rodriguez",
      "photoUrl": "https://lh3.googleusercontent.com/a-/AOh14GjuX40-0URd_w6GeGbIxaGemRJIwK0vNXOoFOBeCg=s64",
      "userId": "17662544329171634219"
     },
     "user_tz": 300
    },
    "id": "8_02L8qgdg6o",
    "outputId": "412b12cd-dff3-4d0f-80ed-e557d42ebea6"
   },
   "outputs": [],
   "source": [
    "df_iris.plot(kind='scatter', x='sepal_length',y='petal_width')"
   ]
  },
  {
   "cell_type": "markdown",
   "metadata": {
    "colab_type": "text",
    "id": "jZvD2Q-5iJIp"
   },
   "source": [
    "Se puede cambiar el color de los puntos basado en el valor de otra columna mediante el parámetro 'c'. En este caso, se estaría presentando la información de 3 series de datos al mismo tiempo: X, Y, y el color. "
   ]
  },
  {
   "cell_type": "code",
   "execution_count": null,
   "metadata": {
    "colab": {},
    "colab_type": "code",
    "id": "hy8I3D2JiJIt"
   },
   "outputs": [],
   "source": [
    "# Convertimos los 3 labels a valores entre 0 y 2\n",
    "df_iris.loc[df_iris['label']=='Iris-setosa','label'] = 0\n",
    "df_iris.loc[df_iris['label']=='Iris-virginica','label'] = 1\n",
    "df_iris.loc[df_iris['label']=='Iris-versicolor','label'] = 2\n"
   ]
  },
  {
   "cell_type": "code",
   "execution_count": null,
   "metadata": {
    "colab": {
     "base_uri": "https://localhost:8080/",
     "height": 275
    },
    "colab_type": "code",
    "executionInfo": {
     "elapsed": 941,
     "status": "ok",
     "timestamp": 1582988489221,
     "user": {
      "displayName": "Beimar Rodriguez",
      "photoUrl": "https://lh3.googleusercontent.com/a-/AOh14GjuX40-0URd_w6GeGbIxaGemRJIwK0vNXOoFOBeCg=s64",
      "userId": "17662544329171634219"
     },
     "user_tz": 300
    },
    "id": "L0rFfFzkFqQP",
    "outputId": "813f8a5a-b5cd-44ab-ab2b-70bd93dd9fc8"
   },
   "outputs": [],
   "source": [
    "df_iris.plot(kind='scatter', x='sepal_length',y='sepal_width', c='label')"
   ]
  },
  {
   "cell_type": "markdown",
   "metadata": {
    "colab_type": "text",
    "id": "2CRh5L4RiJIu"
   },
   "source": [
    "También, se puede usar el parámetro cmap para cambiar el mapa de colores a usar. Ver: http://matplotlib.org/users/colormaps.html"
   ]
  },
  {
   "cell_type": "code",
   "execution_count": null,
   "metadata": {
    "colab": {
     "base_uri": "https://localhost:8080/",
     "height": 275
    },
    "colab_type": "code",
    "executionInfo": {
     "elapsed": 933,
     "status": "ok",
     "timestamp": 1582988570085,
     "user": {
      "displayName": "Beimar Rodriguez",
      "photoUrl": "https://lh3.googleusercontent.com/a-/AOh14GjuX40-0URd_w6GeGbIxaGemRJIwK0vNXOoFOBeCg=s64",
      "userId": "17662544329171634219"
     },
     "user_tz": 300
    },
    "id": "X5JhwAgkiJIu",
    "outputId": "0f04bd24-0c69-44ff-8600-5fc4cccf3a25"
   },
   "outputs": [],
   "source": [
    "df_iris.plot(kind='scatter', x='sepal_length',y='petal_width',c='label',cmap='magma')"
   ]
  },
  {
   "cell_type": "markdown",
   "metadata": {
    "colab_type": "text",
    "id": "z01fQzY4iJIv"
   },
   "source": [
    "O incluso, se puede graficar cada punto con diferente tamaño para dar información adicional de otra columna mediante el parámetro 's'. Este parámetro necesita recibir un arreglo, y no solamente el nombre de la columna:"
   ]
  },
  {
   "cell_type": "code",
   "execution_count": null,
   "metadata": {
    "colab": {
     "base_uri": "https://localhost:8080/",
     "height": 275
    },
    "colab_type": "code",
    "executionInfo": {
     "elapsed": 902,
     "status": "ok",
     "timestamp": 1582988602270,
     "user": {
      "displayName": "Beimar Rodriguez",
      "photoUrl": "https://lh3.googleusercontent.com/a-/AOh14GjuX40-0URd_w6GeGbIxaGemRJIwK0vNXOoFOBeCg=s64",
      "userId": "17662544329171634219"
     },
     "user_tz": 300
    },
    "id": "DPLj9h5PiJIv",
    "outputId": "ac661540-1938-459a-e9f2-2797f8aa9bf2"
   },
   "outputs": [],
   "source": [
    "# Se multiplica por un factor para que quede más grande\n",
    "df_iris.plot(kind='scatter', x='sepal_length',y='sepal_width',c='label',cmap='magma',s=df_iris['petal_width']*50)"
   ]
  },
  {
   "cell_type": "markdown",
   "metadata": {
    "colab_type": "text",
    "id": "CyZQNjciiJIy"
   },
   "source": [
    "___\n",
    "\n",
    "## BoxPlots\n",
    "\n",
    "Un diagrama de caja (boxplot), también conocido como diagrama de caja y bigotes, es un gráfico que está basado en cuartiles y mediante el cual se visualiza la distribución de un conjunto de datos. Está compuesto por un rectángulo (la «caja») y dos brazos (los «bigotes»).\n",
    "\n",
    "Es un gráfico que suministra información sobre los valores mínimo y máximo, los cuartiles Q1, Q2 o mediana y Q3, y sobre la existencia de valores atípicos y la simetría de la distribución. Primero es necesario encontrar la mediana para luego encontrar los 2 cuartiles restantes.\n",
    "\n",
    "![Boxplot](https://upload.wikimedia.org/wikipedia/commons/2/25/Boxplot.svg \"BoxPlot\")\n",
    "\n",
    "**Información tomada de Wikipedia: https://es.wikipedia.org/wiki/Diagrama_de_caja**"
   ]
  },
  {
   "cell_type": "code",
   "execution_count": null,
   "metadata": {
    "colab": {
     "base_uri": "https://localhost:8080/",
     "height": 283
    },
    "colab_type": "code",
    "executionInfo": {
     "elapsed": 564,
     "status": "ok",
     "timestamp": 1582988611620,
     "user": {
      "displayName": "Beimar Rodriguez",
      "photoUrl": "https://lh3.googleusercontent.com/a-/AOh14GjuX40-0URd_w6GeGbIxaGemRJIwK0vNXOoFOBeCg=s64",
      "userId": "17662544329171634219"
     },
     "user_tz": 300
    },
    "id": "8LVFCSYgJKxF",
    "outputId": "b9622586-c067-4d4f-8380-be2a1013eb70"
   },
   "outputs": [],
   "source": [
    "df_iris.plot(kind='box') "
   ]
  },
  {
   "cell_type": "markdown",
   "metadata": {
    "colab_type": "text",
    "id": "nWrD2L1bZPGU"
   },
   "source": [
    "## BoxPlot Agrupado"
   ]
  },
  {
   "cell_type": "code",
   "execution_count": null,
   "metadata": {
    "colab": {
     "base_uri": "https://localhost:8080/",
     "height": 318
    },
    "colab_type": "code",
    "executionInfo": {
     "elapsed": 574,
     "status": "ok",
     "timestamp": 1582990020951,
     "user": {
      "displayName": "Beimar Rodriguez",
      "photoUrl": "https://lh3.googleusercontent.com/a-/AOh14GjuX40-0URd_w6GeGbIxaGemRJIwK0vNXOoFOBeCg=s64",
      "userId": "17662544329171634219"
     },
     "user_tz": 300
    },
    "id": "GKTzcWgBjsN-",
    "outputId": "6adac263-36c3-4cb1-e32a-add6e10f59e1"
   },
   "outputs": [],
   "source": [
    "df_iris.boxplot(column='petal_width',by='label')"
   ]
  },
  {
   "cell_type": "markdown",
   "metadata": {
    "colab_type": "text",
    "id": "wAvujoftiJI0"
   },
   "source": [
    "___\n",
    "\n",
    "## Hexagonal Bin Plot\n",
    "\n",
    "Es útil para datos bi-variados. Este tipo de diagrama es realmente útil si su diagrama de dispersión (scatter) es demasiado denso para ser interpretado. Ayuda a agrupar el área espacial del gráfico ya que la intensidad del color de cada hexágono puede interpretarse como una mayor concentración de puntos en esta área.\n"
   ]
  },
  {
   "cell_type": "code",
   "execution_count": null,
   "metadata": {
    "colab": {
     "base_uri": "https://localhost:8080/",
     "height": 275
    },
    "colab_type": "code",
    "executionInfo": {
     "elapsed": 1053,
     "status": "ok",
     "timestamp": 1582990143364,
     "user": {
      "displayName": "Beimar Rodriguez",
      "photoUrl": "https://lh3.googleusercontent.com/a-/AOh14GjuX40-0URd_w6GeGbIxaGemRJIwK0vNXOoFOBeCg=s64",
      "userId": "17662544329171634219"
     },
     "user_tz": 300
    },
    "id": "u_WrCyIEiJI0",
    "outputId": "f8ab3a49-874f-4e98-d2e7-91e195717ba8"
   },
   "outputs": [],
   "source": [
    "df_iris.plot.hexbin(x='petal_length',y='petal_width')"
   ]
  },
  {
   "cell_type": "code",
   "execution_count": null,
   "metadata": {
    "colab": {
     "base_uri": "https://localhost:8080/",
     "height": 275
    },
    "colab_type": "code",
    "executionInfo": {
     "elapsed": 788,
     "status": "ok",
     "timestamp": 1582990147997,
     "user": {
      "displayName": "Beimar Rodriguez",
      "photoUrl": "https://lh3.googleusercontent.com/a-/AOh14GjuX40-0URd_w6GeGbIxaGemRJIwK0vNXOoFOBeCg=s64",
      "userId": "17662544329171634219"
     },
     "user_tz": 300
    },
    "id": "88sEi3YBiJI1",
    "outputId": "f15bb247-9fe5-4d3b-c835-e99828e63c16"
   },
   "outputs": [],
   "source": [
    "df_iris.plot.hexbin(x='petal_length',y='petal_width',gridsize=15,cmap='Blues')"
   ]
  },
  {
   "cell_type": "markdown",
   "metadata": {
    "colab_type": "text",
    "id": "yCVQg9Q8iJI2"
   },
   "source": [
    "____\n",
    "\n",
    "## Torta (Pie)\n"
   ]
  },
  {
   "cell_type": "code",
   "execution_count": null,
   "metadata": {
    "colab": {
     "base_uri": "https://localhost:8080/",
     "height": 265
    },
    "colab_type": "code",
    "executionInfo": {
     "elapsed": 353,
     "status": "ok",
     "timestamp": 1582990151849,
     "user": {
      "displayName": "Beimar Rodriguez",
      "photoUrl": "https://lh3.googleusercontent.com/a-/AOh14GjuX40-0URd_w6GeGbIxaGemRJIwK0vNXOoFOBeCg=s64",
      "userId": "17662544329171634219"
     },
     "user_tz": 300
    },
    "id": "hNQXEp39MUvm",
    "outputId": "d64d713a-fc66-43a7-f304-2f527feaa5a7"
   },
   "outputs": [],
   "source": [
    "df_iris.groupby('label').count().plot(kind='pie', y='petal_width')"
   ]
  },
  {
   "cell_type": "markdown",
   "metadata": {
    "colab_type": "text",
    "id": "LntQAyW2iJI9"
   },
   "source": [
    "____\n",
    "\n",
    "## Gráfico de Estimación de Densidad de Kernel (Kernel Density Estimation - KDE)\n",
    "\n",
    "KDE es un método no-parametrico para estimar la función de densidad de probabilidad de una variable aleatoria.\n",
    "\n",
    "De esta manera podríamos aproximar la distribución de 'sepal_width' y graficarla como en el siguiente ejemplo. \n",
    "\n",
    "\n",
    "* Ver: https://en.wikipedia.org/wiki/Kernel_density_estimation\n",
    "* Ver explicación y su diferencia con los histogramas: https://mglerner.github.io/posts/histograms-and-kernel-density-estimation-kde-2.html?p=28 "
   ]
  },
  {
   "cell_type": "code",
   "execution_count": null,
   "metadata": {
    "colab": {
     "base_uri": "https://localhost:8080/",
     "height": 286
    },
    "colab_type": "code",
    "executionInfo": {
     "elapsed": 10318,
     "status": "ok",
     "timestamp": 1566015703146,
     "user": {
      "displayName": "Jorge Eliecer Camargo Mendoza",
      "photoUrl": "https://lh4.googleusercontent.com/-J1fIn1CGWok/AAAAAAAAAAI/AAAAAAAACYs/SSMWWolyU4Y/s64/photo.jpg",
      "userId": "02835507447501590248"
     },
     "user_tz": 300
    },
    "id": "zbdBEsmoiJI-",
    "outputId": "93063d41-de58-4f8a-e183-13e03ff8f41c"
   },
   "outputs": [],
   "source": [
    "df_iris['sepal_width'].plot(kind='hist')"
   ]
  },
  {
   "cell_type": "code",
   "execution_count": null,
   "metadata": {
    "colab": {
     "base_uri": "https://localhost:8080/",
     "height": 286
    },
    "colab_type": "code",
    "executionInfo": {
     "elapsed": 10843,
     "status": "ok",
     "timestamp": 1566015703675,
     "user": {
      "displayName": "Jorge Eliecer Camargo Mendoza",
      "photoUrl": "https://lh4.googleusercontent.com/-J1fIn1CGWok/AAAAAAAAAAI/AAAAAAAACYs/SSMWWolyU4Y/s64/photo.jpg",
      "userId": "02835507447501590248"
     },
     "user_tz": 300
    },
    "id": "onE1YPuUPWf3",
    "outputId": "71f0b86c-f724-4a12-85b3-88ec5205fde1"
   },
   "outputs": [],
   "source": [
    "df_iris['sepal_width'].plot(kind='kde')"
   ]
  },
  {
   "cell_type": "markdown",
   "metadata": {
    "colab_type": "text",
    "id": "29Xg1cVciJJA"
   },
   "source": [
    "# 2. Hojas de estilos\n",
    "\n",
    "Matplotlib tiene [hojas de estilo](http://matplotlib.org/gallery.html#style_sheets) que se pueden usar para hacer que sus figuras se vean un poco más agradables. Estas hojas de estilo incluyen:\n",
    "* plot_bmh\n",
    "* plot_fivethirtyeight\n",
    "* plot_ggplot\n",
    "* y más...\n",
    "\n",
    "Básicamente, crean un conjunto de reglas de estilo que cumplen las gráficas. Se recomienda usarlas, ya que hacen que todas las Figuras tengan el mismo aspecto y parezcan más profesionales. Incluso se pueden crear estilos propios si se requiere uno particular para su empresa (aunque es un poco tedioso).\n",
    "\n",
    "\n",
    "**Antes de usar hojas de estilo plt.style.use () las figuras se ven así:**"
   ]
  },
  {
   "cell_type": "code",
   "execution_count": null,
   "metadata": {
    "colab": {
     "base_uri": "https://localhost:8080/",
     "height": 282
    },
    "colab_type": "code",
    "executionInfo": {
     "elapsed": 559,
     "status": "ok",
     "timestamp": 1582990378047,
     "user": {
      "displayName": "Beimar Rodriguez",
      "photoUrl": "https://lh3.googleusercontent.com/a-/AOh14GjuX40-0URd_w6GeGbIxaGemRJIwK0vNXOoFOBeCg=s64",
      "userId": "17662544329171634219"
     },
     "user_tz": 300
    },
    "id": "fQlNt1UIiJJA",
    "outputId": "6443a599-d214-49fb-a45b-a479a4e59246"
   },
   "outputs": [],
   "source": [
    "df_iris['sepal_width'].plot(kind='hist')"
   ]
  },
  {
   "cell_type": "markdown",
   "metadata": {
    "colab_type": "text",
    "id": "EPZjMwEDiJJB"
   },
   "source": [
    "### Cambiando el estilo\n",
    "\n",
    "** Primero hay que importar la librería: **"
   ]
  },
  {
   "cell_type": "code",
   "execution_count": null,
   "metadata": {
    "colab": {},
    "colab_type": "code",
    "id": "e3TZZVV4iJJB"
   },
   "outputs": [],
   "source": [
    "import matplotlib.pyplot as plt"
   ]
  },
  {
   "cell_type": "markdown",
   "metadata": {
    "colab_type": "text",
    "id": "Jj7PaaqoiJJC"
   },
   "source": [
    "**Ahora vamos a probar varios estilos y a graficar un histograma para probar:**"
   ]
  },
  {
   "cell_type": "code",
   "execution_count": null,
   "metadata": {
    "colab": {
     "base_uri": "https://localhost:8080/",
     "height": 182
    },
    "colab_type": "code",
    "executionInfo": {
     "elapsed": 398,
     "status": "error",
     "timestamp": 1582990203704,
     "user": {
      "displayName": "Beimar Rodriguez",
      "photoUrl": "https://lh3.googleusercontent.com/a-/AOh14GjuX40-0URd_w6GeGbIxaGemRJIwK0vNXOoFOBeCg=s64",
      "userId": "17662544329171634219"
     },
     "user_tz": 300
    },
    "id": "1T0UFYfxiJJD",
    "outputId": "5462c5ba-3b6e-45f0-8ccc-a90cf5b6d34b"
   },
   "outputs": [],
   "source": [
    "plt.style.use('ggplot')\n",
    "df_iris['sepal_width'].plot(kind='hist')"
   ]
  },
  {
   "cell_type": "code",
   "execution_count": null,
   "metadata": {
    "colab": {},
    "colab_type": "code",
    "id": "HZZYDOIViJJD"
   },
   "outputs": [],
   "source": [
    "plt.style.use('bmh')\n",
    "df_iris['sepal_width'].plot(kind='hist')"
   ]
  },
  {
   "cell_type": "code",
   "execution_count": null,
   "metadata": {
    "colab": {},
    "colab_type": "code",
    "id": "OgLA3GaziJJE"
   },
   "outputs": [],
   "source": [
    "plt.style.use('fivethirtyeight')\n",
    "df_iris['sepal_width'].plot(kind='hist')"
   ]
  },
  {
   "cell_type": "code",
   "execution_count": null,
   "metadata": {
    "colab": {},
    "colab_type": "code",
    "id": "ZDN6nCuviJJG"
   },
   "outputs": [],
   "source": [
    "plt.style.use('dark_background')\n",
    "df_iris['sepal_width'].plot(kind='hist')"
   ]
  }
 ],
 "metadata": {
  "colab": {
   "collapsed_sections": [],
   "name": "Visualizacion de datos con Pandas.ipynb",
   "provenance": [
    {
     "file_id": "1ZWAncDjsQASuH0nC5FyMBYKPiWKB8PAp",
     "timestamp": 1551157453793
    }
   ],
   "toc_visible": true
  },
  "kernelspec": {
   "display_name": "Python 3",
   "language": "python",
   "name": "python3"
  },
  "language_info": {
   "codemirror_mode": {
    "name": "ipython",
    "version": 3
   },
   "file_extension": ".py",
   "mimetype": "text/x-python",
   "name": "python",
   "nbconvert_exporter": "python",
   "pygments_lexer": "ipython3",
   "version": "3.7.4"
  }
 },
 "nbformat": 4,
 "nbformat_minor": 4
}
